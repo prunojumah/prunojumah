{
  "nbformat": 4,
  "nbformat_minor": 0,
  "metadata": {
    "colab": {
      "name": "Week4_IP_Pruno_Jumah_Python_Notebook",
      "provenance": [],
      "authorship_tag": "ABX9TyMZcVRLOKh2Q2epcpulalg3",
      "include_colab_link": true
    },
    "kernelspec": {
      "name": "python3",
      "display_name": "Python 3"
    }
  },
  "cells": [
    {
      "cell_type": "markdown",
      "metadata": {
        "id": "view-in-github",
        "colab_type": "text"
      },
      "source": [
        "<a href=\"https://colab.research.google.com/github/prunojumah/prunojumah/blob/master/Week4_IP_Pruno_Jumah_Python_Notebook.ipynb\" target=\"_parent\"><img src=\"https://colab.research.google.com/assets/colab-badge.svg\" alt=\"Open In Colab\"/></a>"
      ]
    },
    {
      "cell_type": "markdown",
      "metadata": {
        "id": "225Tr5EJVj70",
        "colab_type": "text"
      },
      "source": [
        "Importing libraries that will be need in the project"
      ]
    },
    {
      "cell_type": "code",
      "metadata": {
        "id": "Nsg_9bOWVr28",
        "colab_type": "code",
        "colab": {}
      },
      "source": [
        "import matplotlib.pyplot as plt\n",
        "import numpy as np\n",
        "import pandas as pd\n",
        "import pymc3 as pm\n",
        "import scipy\n",
        "import scipy.stats as stats\n",
        "import seaborn as sns\n",
        "\n"
      ],
      "execution_count": null,
      "outputs": []
    },
    {
      "cell_type": "markdown",
      "metadata": {
        "id": "3EYNLTMNWc_s",
        "colab_type": "text"
      },
      "source": [
        "Loading our dataset from the source"
      ]
    },
    {
      "cell_type": "code",
      "metadata": {
        "id": "tiP58Y03XErS",
        "colab_type": "code",
        "colab": {
          "base_uri": "https://localhost:8080/",
          "height": 241
        },
        "outputId": "8cb03bbe-5888-4ad5-9875-1e85338a8915"
      },
      "source": [
        "#dataset url: [http://bit.ly/DSCoreAutolibDataset]\n",
        "autolib = pd.read_csv('/content/autolib_daily_events_postal_code.csv')\n",
        "autolib.head()"
      ],
      "execution_count": null,
      "outputs": [
        {
          "output_type": "execute_result",
          "data": {
            "text/html": [
              "<div>\n",
              "<style scoped>\n",
              "    .dataframe tbody tr th:only-of-type {\n",
              "        vertical-align: middle;\n",
              "    }\n",
              "\n",
              "    .dataframe tbody tr th {\n",
              "        vertical-align: top;\n",
              "    }\n",
              "\n",
              "    .dataframe thead th {\n",
              "        text-align: right;\n",
              "    }\n",
              "</style>\n",
              "<table border=\"1\" class=\"dataframe\">\n",
              "  <thead>\n",
              "    <tr style=\"text-align: right;\">\n",
              "      <th></th>\n",
              "      <th>Postal code</th>\n",
              "      <th>date</th>\n",
              "      <th>n_daily_data_points</th>\n",
              "      <th>dayOfWeek</th>\n",
              "      <th>day_type</th>\n",
              "      <th>BlueCars_taken_sum</th>\n",
              "      <th>BlueCars_returned_sum</th>\n",
              "      <th>Utilib_taken_sum</th>\n",
              "      <th>Utilib_returned_sum</th>\n",
              "      <th>Utilib_14_taken_sum</th>\n",
              "      <th>Utilib_14_returned_sum</th>\n",
              "      <th>Slots_freed_sum</th>\n",
              "      <th>Slots_taken_sum</th>\n",
              "    </tr>\n",
              "  </thead>\n",
              "  <tbody>\n",
              "    <tr>\n",
              "      <th>0</th>\n",
              "      <td>75001</td>\n",
              "      <td>1/1/2018</td>\n",
              "      <td>1440</td>\n",
              "      <td>0</td>\n",
              "      <td>weekday</td>\n",
              "      <td>110</td>\n",
              "      <td>103</td>\n",
              "      <td>3</td>\n",
              "      <td>2</td>\n",
              "      <td>10</td>\n",
              "      <td>9</td>\n",
              "      <td>22</td>\n",
              "      <td>20</td>\n",
              "    </tr>\n",
              "    <tr>\n",
              "      <th>1</th>\n",
              "      <td>75001</td>\n",
              "      <td>1/2/2018</td>\n",
              "      <td>1438</td>\n",
              "      <td>1</td>\n",
              "      <td>weekday</td>\n",
              "      <td>98</td>\n",
              "      <td>94</td>\n",
              "      <td>1</td>\n",
              "      <td>1</td>\n",
              "      <td>8</td>\n",
              "      <td>8</td>\n",
              "      <td>23</td>\n",
              "      <td>22</td>\n",
              "    </tr>\n",
              "    <tr>\n",
              "      <th>2</th>\n",
              "      <td>75001</td>\n",
              "      <td>1/3/2018</td>\n",
              "      <td>1439</td>\n",
              "      <td>2</td>\n",
              "      <td>weekday</td>\n",
              "      <td>138</td>\n",
              "      <td>139</td>\n",
              "      <td>0</td>\n",
              "      <td>0</td>\n",
              "      <td>2</td>\n",
              "      <td>2</td>\n",
              "      <td>27</td>\n",
              "      <td>27</td>\n",
              "    </tr>\n",
              "    <tr>\n",
              "      <th>3</th>\n",
              "      <td>75001</td>\n",
              "      <td>1/4/2018</td>\n",
              "      <td>1320</td>\n",
              "      <td>3</td>\n",
              "      <td>weekday</td>\n",
              "      <td>104</td>\n",
              "      <td>104</td>\n",
              "      <td>2</td>\n",
              "      <td>2</td>\n",
              "      <td>9</td>\n",
              "      <td>8</td>\n",
              "      <td>25</td>\n",
              "      <td>21</td>\n",
              "    </tr>\n",
              "    <tr>\n",
              "      <th>4</th>\n",
              "      <td>75001</td>\n",
              "      <td>1/5/2018</td>\n",
              "      <td>1440</td>\n",
              "      <td>4</td>\n",
              "      <td>weekday</td>\n",
              "      <td>114</td>\n",
              "      <td>117</td>\n",
              "      <td>3</td>\n",
              "      <td>3</td>\n",
              "      <td>6</td>\n",
              "      <td>6</td>\n",
              "      <td>18</td>\n",
              "      <td>20</td>\n",
              "    </tr>\n",
              "  </tbody>\n",
              "</table>\n",
              "</div>"
            ],
            "text/plain": [
              "   Postal code      date  ...  Slots_freed_sum  Slots_taken_sum\n",
              "0        75001  1/1/2018  ...               22               20\n",
              "1        75001  1/2/2018  ...               23               22\n",
              "2        75001  1/3/2018  ...               27               27\n",
              "3        75001  1/4/2018  ...               25               21\n",
              "4        75001  1/5/2018  ...               18               20\n",
              "\n",
              "[5 rows x 13 columns]"
            ]
          },
          "metadata": {
            "tags": []
          },
          "execution_count": 102
        }
      ]
    },
    {
      "cell_type": "code",
      "metadata": {
        "id": "FvCbu392WgWf",
        "colab_type": "code",
        "colab": {
          "base_uri": "https://localhost:8080/",
          "height": 452
        },
        "outputId": "6c0dbc44-2bcf-437a-c097-760acccb76e4"
      },
      "source": [
        "#loading the second dataset from the source\n",
        "from pandas import ExcelWriter\n",
        "explanations = pd.read_excel('/content/columns_explanation.xlsx')\n",
        "explanations"
      ],
      "execution_count": null,
      "outputs": [
        {
          "output_type": "execute_result",
          "data": {
            "text/html": [
              "<div>\n",
              "<style scoped>\n",
              "    .dataframe tbody tr th:only-of-type {\n",
              "        vertical-align: middle;\n",
              "    }\n",
              "\n",
              "    .dataframe tbody tr th {\n",
              "        vertical-align: top;\n",
              "    }\n",
              "\n",
              "    .dataframe thead th {\n",
              "        text-align: right;\n",
              "    }\n",
              "</style>\n",
              "<table border=\"1\" class=\"dataframe\">\n",
              "  <thead>\n",
              "    <tr style=\"text-align: right;\">\n",
              "      <th></th>\n",
              "      <th>Column name</th>\n",
              "      <th>explanation</th>\n",
              "    </tr>\n",
              "  </thead>\n",
              "  <tbody>\n",
              "    <tr>\n",
              "      <th>0</th>\n",
              "      <td>Postal code</td>\n",
              "      <td>postal code of the area (in Paris)</td>\n",
              "    </tr>\n",
              "    <tr>\n",
              "      <th>1</th>\n",
              "      <td>date</td>\n",
              "      <td>date of the row aggregation</td>\n",
              "    </tr>\n",
              "    <tr>\n",
              "      <th>2</th>\n",
              "      <td>n_daily_data_points</td>\n",
              "      <td>number of daily data poinst that were availabl...</td>\n",
              "    </tr>\n",
              "    <tr>\n",
              "      <th>3</th>\n",
              "      <td>dayOfWeek</td>\n",
              "      <td>identifier of weekday (0: Monday -&gt; 6: Sunday)</td>\n",
              "    </tr>\n",
              "    <tr>\n",
              "      <th>4</th>\n",
              "      <td>day_type</td>\n",
              "      <td>weekday or weekend</td>\n",
              "    </tr>\n",
              "    <tr>\n",
              "      <th>5</th>\n",
              "      <td>BlueCars_taken_sum</td>\n",
              "      <td>Number of bluecars taken that date in that area</td>\n",
              "    </tr>\n",
              "    <tr>\n",
              "      <th>6</th>\n",
              "      <td>BlueCars_returned_sum</td>\n",
              "      <td>Number of bluecars returned that date in that ...</td>\n",
              "    </tr>\n",
              "    <tr>\n",
              "      <th>7</th>\n",
              "      <td>Utilib_taken_sum</td>\n",
              "      <td>Number of Utilib taken that date in that area</td>\n",
              "    </tr>\n",
              "    <tr>\n",
              "      <th>8</th>\n",
              "      <td>Utilib_returned_sum</td>\n",
              "      <td>Number of Utilib returned that date in that area</td>\n",
              "    </tr>\n",
              "    <tr>\n",
              "      <th>9</th>\n",
              "      <td>Utilib_14_taken_sum</td>\n",
              "      <td>Number of Utilib 1.4 taken that date in that area</td>\n",
              "    </tr>\n",
              "    <tr>\n",
              "      <th>10</th>\n",
              "      <td>Utilib_14_returned_sum</td>\n",
              "      <td>Number of Utilib 1.4 returned that date in tha...</td>\n",
              "    </tr>\n",
              "    <tr>\n",
              "      <th>11</th>\n",
              "      <td>Slots_freed_sum</td>\n",
              "      <td>Number of recharging slots released that date ...</td>\n",
              "    </tr>\n",
              "    <tr>\n",
              "      <th>12</th>\n",
              "      <td>Slots_taken_sum</td>\n",
              "      <td>Number of rechargign slots taken that date in ...</td>\n",
              "    </tr>\n",
              "  </tbody>\n",
              "</table>\n",
              "</div>"
            ],
            "text/plain": [
              "               Column name                                        explanation\n",
              "0              Postal code                 postal code of the area (in Paris)\n",
              "1                     date                        date of the row aggregation\n",
              "2      n_daily_data_points  number of daily data poinst that were availabl...\n",
              "3                dayOfWeek     identifier of weekday (0: Monday -> 6: Sunday)\n",
              "4                 day_type                                 weekday or weekend\n",
              "5       BlueCars_taken_sum    Number of bluecars taken that date in that area\n",
              "6    BlueCars_returned_sum  Number of bluecars returned that date in that ...\n",
              "7         Utilib_taken_sum      Number of Utilib taken that date in that area\n",
              "8      Utilib_returned_sum   Number of Utilib returned that date in that area\n",
              "9      Utilib_14_taken_sum  Number of Utilib 1.4 taken that date in that area\n",
              "10  Utilib_14_returned_sum  Number of Utilib 1.4 returned that date in tha...\n",
              "11         Slots_freed_sum  Number of recharging slots released that date ...\n",
              "12         Slots_taken_sum  Number of rechargign slots taken that date in ..."
            ]
          },
          "metadata": {
            "tags": []
          },
          "execution_count": 103
        }
      ]
    },
    {
      "cell_type": "markdown",
      "metadata": {
        "id": "jTqPsNxkZK24",
        "colab_type": "text"
      },
      "source": [
        "Checking and getting an overview of the dataset"
      ]
    },
    {
      "cell_type": "code",
      "metadata": {
        "id": "eNe8EouFZPUF",
        "colab_type": "code",
        "colab": {
          "base_uri": "https://localhost:8080/",
          "height": 396
        },
        "outputId": "8dd44c31-c22b-479e-824e-ce5f842b48d2"
      },
      "source": [
        "#Previewing the first 10 rows of the dataset\n",
        "\n",
        "autolib.head(10)"
      ],
      "execution_count": null,
      "outputs": [
        {
          "output_type": "execute_result",
          "data": {
            "text/html": [
              "<div>\n",
              "<style scoped>\n",
              "    .dataframe tbody tr th:only-of-type {\n",
              "        vertical-align: middle;\n",
              "    }\n",
              "\n",
              "    .dataframe tbody tr th {\n",
              "        vertical-align: top;\n",
              "    }\n",
              "\n",
              "    .dataframe thead th {\n",
              "        text-align: right;\n",
              "    }\n",
              "</style>\n",
              "<table border=\"1\" class=\"dataframe\">\n",
              "  <thead>\n",
              "    <tr style=\"text-align: right;\">\n",
              "      <th></th>\n",
              "      <th>Postal code</th>\n",
              "      <th>date</th>\n",
              "      <th>n_daily_data_points</th>\n",
              "      <th>dayOfWeek</th>\n",
              "      <th>day_type</th>\n",
              "      <th>BlueCars_taken_sum</th>\n",
              "      <th>BlueCars_returned_sum</th>\n",
              "      <th>Utilib_taken_sum</th>\n",
              "      <th>Utilib_returned_sum</th>\n",
              "      <th>Utilib_14_taken_sum</th>\n",
              "      <th>Utilib_14_returned_sum</th>\n",
              "      <th>Slots_freed_sum</th>\n",
              "      <th>Slots_taken_sum</th>\n",
              "    </tr>\n",
              "  </thead>\n",
              "  <tbody>\n",
              "    <tr>\n",
              "      <th>0</th>\n",
              "      <td>75001</td>\n",
              "      <td>1/1/2018</td>\n",
              "      <td>1440</td>\n",
              "      <td>0</td>\n",
              "      <td>weekday</td>\n",
              "      <td>110</td>\n",
              "      <td>103</td>\n",
              "      <td>3</td>\n",
              "      <td>2</td>\n",
              "      <td>10</td>\n",
              "      <td>9</td>\n",
              "      <td>22</td>\n",
              "      <td>20</td>\n",
              "    </tr>\n",
              "    <tr>\n",
              "      <th>1</th>\n",
              "      <td>75001</td>\n",
              "      <td>1/2/2018</td>\n",
              "      <td>1438</td>\n",
              "      <td>1</td>\n",
              "      <td>weekday</td>\n",
              "      <td>98</td>\n",
              "      <td>94</td>\n",
              "      <td>1</td>\n",
              "      <td>1</td>\n",
              "      <td>8</td>\n",
              "      <td>8</td>\n",
              "      <td>23</td>\n",
              "      <td>22</td>\n",
              "    </tr>\n",
              "    <tr>\n",
              "      <th>2</th>\n",
              "      <td>75001</td>\n",
              "      <td>1/3/2018</td>\n",
              "      <td>1439</td>\n",
              "      <td>2</td>\n",
              "      <td>weekday</td>\n",
              "      <td>138</td>\n",
              "      <td>139</td>\n",
              "      <td>0</td>\n",
              "      <td>0</td>\n",
              "      <td>2</td>\n",
              "      <td>2</td>\n",
              "      <td>27</td>\n",
              "      <td>27</td>\n",
              "    </tr>\n",
              "    <tr>\n",
              "      <th>3</th>\n",
              "      <td>75001</td>\n",
              "      <td>1/4/2018</td>\n",
              "      <td>1320</td>\n",
              "      <td>3</td>\n",
              "      <td>weekday</td>\n",
              "      <td>104</td>\n",
              "      <td>104</td>\n",
              "      <td>2</td>\n",
              "      <td>2</td>\n",
              "      <td>9</td>\n",
              "      <td>8</td>\n",
              "      <td>25</td>\n",
              "      <td>21</td>\n",
              "    </tr>\n",
              "    <tr>\n",
              "      <th>4</th>\n",
              "      <td>75001</td>\n",
              "      <td>1/5/2018</td>\n",
              "      <td>1440</td>\n",
              "      <td>4</td>\n",
              "      <td>weekday</td>\n",
              "      <td>114</td>\n",
              "      <td>117</td>\n",
              "      <td>3</td>\n",
              "      <td>3</td>\n",
              "      <td>6</td>\n",
              "      <td>6</td>\n",
              "      <td>18</td>\n",
              "      <td>20</td>\n",
              "    </tr>\n",
              "    <tr>\n",
              "      <th>5</th>\n",
              "      <td>75001</td>\n",
              "      <td>1/6/2018</td>\n",
              "      <td>1437</td>\n",
              "      <td>5</td>\n",
              "      <td>weekend</td>\n",
              "      <td>187</td>\n",
              "      <td>185</td>\n",
              "      <td>6</td>\n",
              "      <td>6</td>\n",
              "      <td>7</td>\n",
              "      <td>8</td>\n",
              "      <td>38</td>\n",
              "      <td>35</td>\n",
              "    </tr>\n",
              "    <tr>\n",
              "      <th>6</th>\n",
              "      <td>75001</td>\n",
              "      <td>1/7/2018</td>\n",
              "      <td>1440</td>\n",
              "      <td>6</td>\n",
              "      <td>weekend</td>\n",
              "      <td>180</td>\n",
              "      <td>180</td>\n",
              "      <td>2</td>\n",
              "      <td>2</td>\n",
              "      <td>10</td>\n",
              "      <td>9</td>\n",
              "      <td>34</td>\n",
              "      <td>34</td>\n",
              "    </tr>\n",
              "    <tr>\n",
              "      <th>7</th>\n",
              "      <td>75001</td>\n",
              "      <td>1/8/2018</td>\n",
              "      <td>1438</td>\n",
              "      <td>0</td>\n",
              "      <td>weekday</td>\n",
              "      <td>84</td>\n",
              "      <td>83</td>\n",
              "      <td>3</td>\n",
              "      <td>3</td>\n",
              "      <td>10</td>\n",
              "      <td>10</td>\n",
              "      <td>14</td>\n",
              "      <td>15</td>\n",
              "    </tr>\n",
              "    <tr>\n",
              "      <th>8</th>\n",
              "      <td>75001</td>\n",
              "      <td>1/9/2018</td>\n",
              "      <td>1439</td>\n",
              "      <td>1</td>\n",
              "      <td>weekday</td>\n",
              "      <td>81</td>\n",
              "      <td>84</td>\n",
              "      <td>1</td>\n",
              "      <td>1</td>\n",
              "      <td>4</td>\n",
              "      <td>4</td>\n",
              "      <td>15</td>\n",
              "      <td>15</td>\n",
              "    </tr>\n",
              "    <tr>\n",
              "      <th>9</th>\n",
              "      <td>75001</td>\n",
              "      <td>1/10/2018</td>\n",
              "      <td>1440</td>\n",
              "      <td>2</td>\n",
              "      <td>weekday</td>\n",
              "      <td>88</td>\n",
              "      <td>85</td>\n",
              "      <td>5</td>\n",
              "      <td>5</td>\n",
              "      <td>11</td>\n",
              "      <td>11</td>\n",
              "      <td>23</td>\n",
              "      <td>22</td>\n",
              "    </tr>\n",
              "  </tbody>\n",
              "</table>\n",
              "</div>"
            ],
            "text/plain": [
              "   Postal code       date  ...  Slots_freed_sum  Slots_taken_sum\n",
              "0        75001   1/1/2018  ...               22               20\n",
              "1        75001   1/2/2018  ...               23               22\n",
              "2        75001   1/3/2018  ...               27               27\n",
              "3        75001   1/4/2018  ...               25               21\n",
              "4        75001   1/5/2018  ...               18               20\n",
              "5        75001   1/6/2018  ...               38               35\n",
              "6        75001   1/7/2018  ...               34               34\n",
              "7        75001   1/8/2018  ...               14               15\n",
              "8        75001   1/9/2018  ...               15               15\n",
              "9        75001  1/10/2018  ...               23               22\n",
              "\n",
              "[10 rows x 13 columns]"
            ]
          },
          "metadata": {
            "tags": []
          },
          "execution_count": 104
        }
      ]
    },
    {
      "cell_type": "code",
      "metadata": {
        "id": "qOJZNBG_ZZZZ",
        "colab_type": "code",
        "colab": {
          "base_uri": "https://localhost:8080/",
          "height": 396
        },
        "outputId": "ec992277-2dcc-4144-e1d1-970e5db226b7"
      },
      "source": [
        "#Previewing and getting an overview of the bottom 10 of the dataset\n",
        "\n",
        "autolib.tail(10)"
      ],
      "execution_count": null,
      "outputs": [
        {
          "output_type": "execute_result",
          "data": {
            "text/html": [
              "<div>\n",
              "<style scoped>\n",
              "    .dataframe tbody tr th:only-of-type {\n",
              "        vertical-align: middle;\n",
              "    }\n",
              "\n",
              "    .dataframe tbody tr th {\n",
              "        vertical-align: top;\n",
              "    }\n",
              "\n",
              "    .dataframe thead th {\n",
              "        text-align: right;\n",
              "    }\n",
              "</style>\n",
              "<table border=\"1\" class=\"dataframe\">\n",
              "  <thead>\n",
              "    <tr style=\"text-align: right;\">\n",
              "      <th></th>\n",
              "      <th>Postal code</th>\n",
              "      <th>date</th>\n",
              "      <th>n_daily_data_points</th>\n",
              "      <th>dayOfWeek</th>\n",
              "      <th>day_type</th>\n",
              "      <th>BlueCars_taken_sum</th>\n",
              "      <th>BlueCars_returned_sum</th>\n",
              "      <th>Utilib_taken_sum</th>\n",
              "      <th>Utilib_returned_sum</th>\n",
              "      <th>Utilib_14_taken_sum</th>\n",
              "      <th>Utilib_14_returned_sum</th>\n",
              "      <th>Slots_freed_sum</th>\n",
              "      <th>Slots_taken_sum</th>\n",
              "    </tr>\n",
              "  </thead>\n",
              "  <tbody>\n",
              "    <tr>\n",
              "      <th>16075</th>\n",
              "      <td>95880</td>\n",
              "      <td>6/10/2018</td>\n",
              "      <td>1440</td>\n",
              "      <td>6</td>\n",
              "      <td>weekend</td>\n",
              "      <td>34</td>\n",
              "      <td>32</td>\n",
              "      <td>0</td>\n",
              "      <td>0</td>\n",
              "      <td>1</td>\n",
              "      <td>0</td>\n",
              "      <td>0</td>\n",
              "      <td>0</td>\n",
              "    </tr>\n",
              "    <tr>\n",
              "      <th>16076</th>\n",
              "      <td>95880</td>\n",
              "      <td>6/11/2018</td>\n",
              "      <td>1440</td>\n",
              "      <td>0</td>\n",
              "      <td>weekday</td>\n",
              "      <td>17</td>\n",
              "      <td>18</td>\n",
              "      <td>0</td>\n",
              "      <td>0</td>\n",
              "      <td>0</td>\n",
              "      <td>0</td>\n",
              "      <td>0</td>\n",
              "      <td>0</td>\n",
              "    </tr>\n",
              "    <tr>\n",
              "      <th>16077</th>\n",
              "      <td>95880</td>\n",
              "      <td>6/12/2018</td>\n",
              "      <td>1439</td>\n",
              "      <td>1</td>\n",
              "      <td>weekday</td>\n",
              "      <td>25</td>\n",
              "      <td>25</td>\n",
              "      <td>0</td>\n",
              "      <td>0</td>\n",
              "      <td>0</td>\n",
              "      <td>0</td>\n",
              "      <td>0</td>\n",
              "      <td>0</td>\n",
              "    </tr>\n",
              "    <tr>\n",
              "      <th>16078</th>\n",
              "      <td>95880</td>\n",
              "      <td>6/13/2018</td>\n",
              "      <td>1440</td>\n",
              "      <td>2</td>\n",
              "      <td>weekday</td>\n",
              "      <td>12</td>\n",
              "      <td>13</td>\n",
              "      <td>0</td>\n",
              "      <td>0</td>\n",
              "      <td>1</td>\n",
              "      <td>1</td>\n",
              "      <td>0</td>\n",
              "      <td>0</td>\n",
              "    </tr>\n",
              "    <tr>\n",
              "      <th>16079</th>\n",
              "      <td>95880</td>\n",
              "      <td>6/14/2018</td>\n",
              "      <td>1439</td>\n",
              "      <td>3</td>\n",
              "      <td>weekday</td>\n",
              "      <td>15</td>\n",
              "      <td>13</td>\n",
              "      <td>0</td>\n",
              "      <td>0</td>\n",
              "      <td>0</td>\n",
              "      <td>0</td>\n",
              "      <td>0</td>\n",
              "      <td>0</td>\n",
              "    </tr>\n",
              "    <tr>\n",
              "      <th>16080</th>\n",
              "      <td>95880</td>\n",
              "      <td>6/15/2018</td>\n",
              "      <td>1440</td>\n",
              "      <td>4</td>\n",
              "      <td>weekday</td>\n",
              "      <td>15</td>\n",
              "      <td>10</td>\n",
              "      <td>0</td>\n",
              "      <td>0</td>\n",
              "      <td>2</td>\n",
              "      <td>3</td>\n",
              "      <td>0</td>\n",
              "      <td>0</td>\n",
              "    </tr>\n",
              "    <tr>\n",
              "      <th>16081</th>\n",
              "      <td>95880</td>\n",
              "      <td>6/16/2018</td>\n",
              "      <td>1440</td>\n",
              "      <td>5</td>\n",
              "      <td>weekend</td>\n",
              "      <td>19</td>\n",
              "      <td>19</td>\n",
              "      <td>0</td>\n",
              "      <td>0</td>\n",
              "      <td>2</td>\n",
              "      <td>1</td>\n",
              "      <td>0</td>\n",
              "      <td>0</td>\n",
              "    </tr>\n",
              "    <tr>\n",
              "      <th>16082</th>\n",
              "      <td>95880</td>\n",
              "      <td>6/17/2018</td>\n",
              "      <td>1440</td>\n",
              "      <td>6</td>\n",
              "      <td>weekend</td>\n",
              "      <td>33</td>\n",
              "      <td>35</td>\n",
              "      <td>1</td>\n",
              "      <td>1</td>\n",
              "      <td>0</td>\n",
              "      <td>0</td>\n",
              "      <td>0</td>\n",
              "      <td>0</td>\n",
              "    </tr>\n",
              "    <tr>\n",
              "      <th>16083</th>\n",
              "      <td>95880</td>\n",
              "      <td>6/18/2018</td>\n",
              "      <td>1440</td>\n",
              "      <td>0</td>\n",
              "      <td>weekday</td>\n",
              "      <td>11</td>\n",
              "      <td>14</td>\n",
              "      <td>3</td>\n",
              "      <td>5</td>\n",
              "      <td>2</td>\n",
              "      <td>2</td>\n",
              "      <td>0</td>\n",
              "      <td>0</td>\n",
              "    </tr>\n",
              "    <tr>\n",
              "      <th>16084</th>\n",
              "      <td>95880</td>\n",
              "      <td>6/19/2018</td>\n",
              "      <td>1370</td>\n",
              "      <td>1</td>\n",
              "      <td>weekday</td>\n",
              "      <td>2</td>\n",
              "      <td>2</td>\n",
              "      <td>2</td>\n",
              "      <td>1</td>\n",
              "      <td>0</td>\n",
              "      <td>0</td>\n",
              "      <td>0</td>\n",
              "      <td>0</td>\n",
              "    </tr>\n",
              "  </tbody>\n",
              "</table>\n",
              "</div>"
            ],
            "text/plain": [
              "       Postal code       date  ...  Slots_freed_sum  Slots_taken_sum\n",
              "16075        95880  6/10/2018  ...                0                0\n",
              "16076        95880  6/11/2018  ...                0                0\n",
              "16077        95880  6/12/2018  ...                0                0\n",
              "16078        95880  6/13/2018  ...                0                0\n",
              "16079        95880  6/14/2018  ...                0                0\n",
              "16080        95880  6/15/2018  ...                0                0\n",
              "16081        95880  6/16/2018  ...                0                0\n",
              "16082        95880  6/17/2018  ...                0                0\n",
              "16083        95880  6/18/2018  ...                0                0\n",
              "16084        95880  6/19/2018  ...                0                0\n",
              "\n",
              "[10 rows x 13 columns]"
            ]
          },
          "metadata": {
            "tags": []
          },
          "execution_count": 105
        }
      ]
    },
    {
      "cell_type": "code",
      "metadata": {
        "id": "Wk6ktOHOZm_0",
        "colab_type": "code",
        "colab": {
          "base_uri": "https://localhost:8080/",
          "height": 34
        },
        "outputId": "02b7b3cd-4587-4834-8dbe-61f0de9143e9"
      },
      "source": [
        "#Checking the shape of the autolib dataset\n",
        "\n",
        "autolib.shape"
      ],
      "execution_count": null,
      "outputs": [
        {
          "output_type": "execute_result",
          "data": {
            "text/plain": [
              "(16085, 13)"
            ]
          },
          "metadata": {
            "tags": []
          },
          "execution_count": 106
        }
      ]
    },
    {
      "cell_type": "code",
      "metadata": {
        "id": "al77j19yZ1ai",
        "colab_type": "code",
        "colab": {
          "base_uri": "https://localhost:8080/",
          "height": 255
        },
        "outputId": "639e79e0-0cad-4ce7-d471-6e9dec773478"
      },
      "source": [
        "#Checking the column's datatypes\n",
        "\n",
        "autolib.dtypes\n"
      ],
      "execution_count": null,
      "outputs": [
        {
          "output_type": "execute_result",
          "data": {
            "text/plain": [
              "Postal code                int64\n",
              "date                      object\n",
              "n_daily_data_points        int64\n",
              "dayOfWeek                  int64\n",
              "day_type                  object\n",
              "BlueCars_taken_sum         int64\n",
              "BlueCars_returned_sum      int64\n",
              "Utilib_taken_sum           int64\n",
              "Utilib_returned_sum        int64\n",
              "Utilib_14_taken_sum        int64\n",
              "Utilib_14_returned_sum     int64\n",
              "Slots_freed_sum            int64\n",
              "Slots_taken_sum            int64\n",
              "dtype: object"
            ]
          },
          "metadata": {
            "tags": []
          },
          "execution_count": 107
        }
      ]
    },
    {
      "cell_type": "code",
      "metadata": {
        "id": "XFlqEWgaaC1s",
        "colab_type": "code",
        "colab": {
          "base_uri": "https://localhost:8080/",
          "height": 221
        },
        "outputId": "90586a29-4283-4bb0-8853-11379605f443"
      },
      "source": [
        "#Changing the date datatype from object to datetime\n",
        "\n",
        "from datetime import date\n",
        "from datetime import datetime\n",
        "\n",
        "autolib['date'] = datetime.combine(date.today(), datetime.min.time())\n",
        "autolib['date']"
      ],
      "execution_count": null,
      "outputs": [
        {
          "output_type": "execute_result",
          "data": {
            "text/plain": [
              "0       2020-09-04\n",
              "1       2020-09-04\n",
              "2       2020-09-04\n",
              "3       2020-09-04\n",
              "4       2020-09-04\n",
              "           ...    \n",
              "16080   2020-09-04\n",
              "16081   2020-09-04\n",
              "16082   2020-09-04\n",
              "16083   2020-09-04\n",
              "16084   2020-09-04\n",
              "Name: date, Length: 16085, dtype: datetime64[ns]"
            ]
          },
          "metadata": {
            "tags": []
          },
          "execution_count": 108
        }
      ]
    },
    {
      "cell_type": "code",
      "metadata": {
        "id": "r_HZHQ7kbZH4",
        "colab_type": "code",
        "colab": {
          "base_uri": "https://localhost:8080/",
          "height": 255
        },
        "outputId": "8999be13-e400-4082-eeee-8bb180276a08"
      },
      "source": [
        "#Checking for unique values\n",
        "\n",
        "autolib.nunique()"
      ],
      "execution_count": null,
      "outputs": [
        {
          "output_type": "execute_result",
          "data": {
            "text/plain": [
              "Postal code               104\n",
              "date                        1\n",
              "n_daily_data_points        23\n",
              "dayOfWeek                   7\n",
              "day_type                    2\n",
              "BlueCars_taken_sum        932\n",
              "BlueCars_returned_sum     929\n",
              "Utilib_taken_sum           48\n",
              "Utilib_returned_sum        49\n",
              "Utilib_14_taken_sum        92\n",
              "Utilib_14_returned_sum     94\n",
              "Slots_freed_sum           297\n",
              "Slots_taken_sum           301\n",
              "dtype: int64"
            ]
          },
          "metadata": {
            "tags": []
          },
          "execution_count": 109
        }
      ]
    },
    {
      "cell_type": "code",
      "metadata": {
        "id": "RB60qe-Lbrtp",
        "colab_type": "code",
        "colab": {
          "base_uri": "https://localhost:8080/",
          "height": 357
        },
        "outputId": "d504a2c0-0bdd-47ea-c549-90b3503abefc"
      },
      "source": [
        "#Checking for null values\n",
        "\n",
        "autolib.info()"
      ],
      "execution_count": null,
      "outputs": [
        {
          "output_type": "stream",
          "text": [
            "<class 'pandas.core.frame.DataFrame'>\n",
            "RangeIndex: 16085 entries, 0 to 16084\n",
            "Data columns (total 13 columns):\n",
            " #   Column                  Non-Null Count  Dtype         \n",
            "---  ------                  --------------  -----         \n",
            " 0   Postal code             16085 non-null  int64         \n",
            " 1   date                    16085 non-null  datetime64[ns]\n",
            " 2   n_daily_data_points     16085 non-null  int64         \n",
            " 3   dayOfWeek               16085 non-null  int64         \n",
            " 4   day_type                16085 non-null  object        \n",
            " 5   BlueCars_taken_sum      16085 non-null  int64         \n",
            " 6   BlueCars_returned_sum   16085 non-null  int64         \n",
            " 7   Utilib_taken_sum        16085 non-null  int64         \n",
            " 8   Utilib_returned_sum     16085 non-null  int64         \n",
            " 9   Utilib_14_taken_sum     16085 non-null  int64         \n",
            " 10  Utilib_14_returned_sum  16085 non-null  int64         \n",
            " 11  Slots_freed_sum         16085 non-null  int64         \n",
            " 12  Slots_taken_sum         16085 non-null  int64         \n",
            "dtypes: datetime64[ns](1), int64(11), object(1)\n",
            "memory usage: 1.6+ MB\n"
          ],
          "name": "stdout"
        }
      ]
    },
    {
      "cell_type": "code",
      "metadata": {
        "id": "VGXihrCscQo8",
        "colab_type": "code",
        "colab": {
          "base_uri": "https://localhost:8080/",
          "height": 317
        },
        "outputId": "45c3c61b-5954-4d4e-d65c-c7975f36cca3"
      },
      "source": [
        "#Analysing with basic statistics\n",
        "\n",
        "autolib.describe()"
      ],
      "execution_count": null,
      "outputs": [
        {
          "output_type": "execute_result",
          "data": {
            "text/html": [
              "<div>\n",
              "<style scoped>\n",
              "    .dataframe tbody tr th:only-of-type {\n",
              "        vertical-align: middle;\n",
              "    }\n",
              "\n",
              "    .dataframe tbody tr th {\n",
              "        vertical-align: top;\n",
              "    }\n",
              "\n",
              "    .dataframe thead th {\n",
              "        text-align: right;\n",
              "    }\n",
              "</style>\n",
              "<table border=\"1\" class=\"dataframe\">\n",
              "  <thead>\n",
              "    <tr style=\"text-align: right;\">\n",
              "      <th></th>\n",
              "      <th>Postal code</th>\n",
              "      <th>n_daily_data_points</th>\n",
              "      <th>dayOfWeek</th>\n",
              "      <th>BlueCars_taken_sum</th>\n",
              "      <th>BlueCars_returned_sum</th>\n",
              "      <th>Utilib_taken_sum</th>\n",
              "      <th>Utilib_returned_sum</th>\n",
              "      <th>Utilib_14_taken_sum</th>\n",
              "      <th>Utilib_14_returned_sum</th>\n",
              "      <th>Slots_freed_sum</th>\n",
              "      <th>Slots_taken_sum</th>\n",
              "    </tr>\n",
              "  </thead>\n",
              "  <tbody>\n",
              "    <tr>\n",
              "      <th>count</th>\n",
              "      <td>16085.000000</td>\n",
              "      <td>16085.000000</td>\n",
              "      <td>16085.000000</td>\n",
              "      <td>16085.000000</td>\n",
              "      <td>16085.000000</td>\n",
              "      <td>16085.000000</td>\n",
              "      <td>16085.000000</td>\n",
              "      <td>16085.000000</td>\n",
              "      <td>16085.000000</td>\n",
              "      <td>16085.000000</td>\n",
              "      <td>16085.000000</td>\n",
              "    </tr>\n",
              "    <tr>\n",
              "      <th>mean</th>\n",
              "      <td>88791.293876</td>\n",
              "      <td>1431.330619</td>\n",
              "      <td>2.969599</td>\n",
              "      <td>125.926951</td>\n",
              "      <td>125.912714</td>\n",
              "      <td>3.698290</td>\n",
              "      <td>3.699099</td>\n",
              "      <td>8.600560</td>\n",
              "      <td>8.599192</td>\n",
              "      <td>22.629033</td>\n",
              "      <td>22.629282</td>\n",
              "    </tr>\n",
              "    <tr>\n",
              "      <th>std</th>\n",
              "      <td>7647.342000</td>\n",
              "      <td>33.212050</td>\n",
              "      <td>2.008378</td>\n",
              "      <td>185.426579</td>\n",
              "      <td>185.501535</td>\n",
              "      <td>5.815058</td>\n",
              "      <td>5.824634</td>\n",
              "      <td>12.870098</td>\n",
              "      <td>12.868993</td>\n",
              "      <td>52.120263</td>\n",
              "      <td>52.146030</td>\n",
              "    </tr>\n",
              "    <tr>\n",
              "      <th>min</th>\n",
              "      <td>75001.000000</td>\n",
              "      <td>1174.000000</td>\n",
              "      <td>0.000000</td>\n",
              "      <td>0.000000</td>\n",
              "      <td>0.000000</td>\n",
              "      <td>0.000000</td>\n",
              "      <td>0.000000</td>\n",
              "      <td>0.000000</td>\n",
              "      <td>0.000000</td>\n",
              "      <td>0.000000</td>\n",
              "      <td>0.000000</td>\n",
              "    </tr>\n",
              "    <tr>\n",
              "      <th>25%</th>\n",
              "      <td>91330.000000</td>\n",
              "      <td>1439.000000</td>\n",
              "      <td>1.000000</td>\n",
              "      <td>20.000000</td>\n",
              "      <td>20.000000</td>\n",
              "      <td>0.000000</td>\n",
              "      <td>0.000000</td>\n",
              "      <td>1.000000</td>\n",
              "      <td>1.000000</td>\n",
              "      <td>0.000000</td>\n",
              "      <td>0.000000</td>\n",
              "    </tr>\n",
              "    <tr>\n",
              "      <th>50%</th>\n",
              "      <td>92340.000000</td>\n",
              "      <td>1440.000000</td>\n",
              "      <td>3.000000</td>\n",
              "      <td>46.000000</td>\n",
              "      <td>46.000000</td>\n",
              "      <td>1.000000</td>\n",
              "      <td>1.000000</td>\n",
              "      <td>3.000000</td>\n",
              "      <td>3.000000</td>\n",
              "      <td>0.000000</td>\n",
              "      <td>0.000000</td>\n",
              "    </tr>\n",
              "    <tr>\n",
              "      <th>75%</th>\n",
              "      <td>93400.000000</td>\n",
              "      <td>1440.000000</td>\n",
              "      <td>5.000000</td>\n",
              "      <td>135.000000</td>\n",
              "      <td>135.000000</td>\n",
              "      <td>4.000000</td>\n",
              "      <td>4.000000</td>\n",
              "      <td>10.000000</td>\n",
              "      <td>10.000000</td>\n",
              "      <td>5.000000</td>\n",
              "      <td>5.000000</td>\n",
              "    </tr>\n",
              "    <tr>\n",
              "      <th>max</th>\n",
              "      <td>95880.000000</td>\n",
              "      <td>1440.000000</td>\n",
              "      <td>6.000000</td>\n",
              "      <td>1352.000000</td>\n",
              "      <td>1332.000000</td>\n",
              "      <td>54.000000</td>\n",
              "      <td>58.000000</td>\n",
              "      <td>100.000000</td>\n",
              "      <td>101.000000</td>\n",
              "      <td>360.000000</td>\n",
              "      <td>359.000000</td>\n",
              "    </tr>\n",
              "  </tbody>\n",
              "</table>\n",
              "</div>"
            ],
            "text/plain": [
              "        Postal code  n_daily_data_points  ...  Slots_freed_sum  Slots_taken_sum\n",
              "count  16085.000000         16085.000000  ...     16085.000000     16085.000000\n",
              "mean   88791.293876          1431.330619  ...        22.629033        22.629282\n",
              "std     7647.342000            33.212050  ...        52.120263        52.146030\n",
              "min    75001.000000          1174.000000  ...         0.000000         0.000000\n",
              "25%    91330.000000          1439.000000  ...         0.000000         0.000000\n",
              "50%    92340.000000          1440.000000  ...         0.000000         0.000000\n",
              "75%    93400.000000          1440.000000  ...         5.000000         5.000000\n",
              "max    95880.000000          1440.000000  ...       360.000000       359.000000\n",
              "\n",
              "[8 rows x 11 columns]"
            ]
          },
          "metadata": {
            "tags": []
          },
          "execution_count": 111
        }
      ]
    },
    {
      "cell_type": "markdown",
      "metadata": {
        "id": "_wEAlqETf5Lj",
        "colab_type": "text"
      },
      "source": [
        "Data Cleaning"
      ]
    },
    {
      "cell_type": "code",
      "metadata": {
        "id": "UTz7zi6Uf_fR",
        "colab_type": "code",
        "colab": {
          "base_uri": "https://localhost:8080/",
          "height": 102
        },
        "outputId": "a0333dbe-6f71-4980-c199-7c436a225f85"
      },
      "source": [
        "#Capitalizing the column heads to enhance uniformity\n",
        "\n",
        "autolib.columns = autolib.columns.str.upper().str.strip().str.replace(' ','_').str.replace('.','')\n",
        "autolib.columns\n"
      ],
      "execution_count": null,
      "outputs": [
        {
          "output_type": "execute_result",
          "data": {
            "text/plain": [
              "Index(['POSTAL_CODE', 'DATE', 'N_DAILY_DATA_POINTS', 'DAYOFWEEK', 'DAY_TYPE',\n",
              "       'BLUECARS_TAKEN_SUM', 'BLUECARS_RETURNED_SUM', 'UTILIB_TAKEN_SUM',\n",
              "       'UTILIB_RETURNED_SUM', 'UTILIB_14_TAKEN_SUM', 'UTILIB_14_RETURNED_SUM',\n",
              "       'SLOTS_FREED_SUM', 'SLOTS_TAKEN_SUM'],\n",
              "      dtype='object')"
            ]
          },
          "metadata": {
            "tags": []
          },
          "execution_count": 112
        }
      ]
    },
    {
      "cell_type": "code",
      "metadata": {
        "id": "9q1rvDCIgHqh",
        "colab_type": "code",
        "colab": {
          "base_uri": "https://localhost:8080/",
          "height": 34
        },
        "outputId": "0925dab1-eed6-4188-e73b-03c7d00c33cf"
      },
      "source": [
        "#Checking for duplicates in the dataset\n",
        "\n",
        "autolib.duplicated().any()\n",
        "\n",
        "#Duplicates are not removed due to the nature of our dataset\n",
        "#it can take a form where duplicates occur"
      ],
      "execution_count": null,
      "outputs": [
        {
          "output_type": "execute_result",
          "data": {
            "text/plain": [
              "True"
            ]
          },
          "metadata": {
            "tags": []
          },
          "execution_count": 113
        }
      ]
    },
    {
      "cell_type": "markdown",
      "metadata": {
        "id": "6q8nQdfMhO9Y",
        "colab_type": "text"
      },
      "source": [
        "Checking for outliers"
      ]
    },
    {
      "cell_type": "code",
      "metadata": {
        "id": "Bmj_IrQYhRCw",
        "colab_type": "code",
        "colab": {
          "base_uri": "https://localhost:8080/",
          "height": 540
        },
        "outputId": "5f928bb1-bc34-4173-e683-6ce27503a3ac"
      },
      "source": [
        "#Checking for outliers\n",
        "import seaborn as sns\n",
        "\n",
        "fig, ax = plt.subplots(1,3, figsize=(20,8))\n",
        "fig.suptitle('Boxplots')\n",
        "sns.boxplot(data=autolib, y = \"BLUECARS_TAKEN_SUM\", ax=ax[0])\n",
        "ax[1].set_title('Box Plot of BLUECARS_TAKEN_SUM')\n",
        "sns.boxplot(data=autolib, y = \"BLUECARS_RETURNED_SUM\", ax=ax[1])\n",
        "ax[2].set_title('Box Plot of BLUECARS_RETURNED_SUM')\n",
        "\n",
        "plt.show()\n",
        "\n",
        "#The diagrams show us existence of substantial numbers of outliers in\n",
        "#N_daily_data_points, bluecars_taken_sum, bluecars_returned_sum"
      ],
      "execution_count": null,
      "outputs": [
        {
          "output_type": "display_data",
          "data": {
            "image/png": "[encoded data removed]",
            "text/plain": [
              "<Figure size 1440x576 with 3 Axes>"
            ]
          },
          "metadata": {
            "tags": [],
            "needs_background": "light"
          }
        }
      ]
    },
    {
      "cell_type": "markdown",
      "metadata": {
        "id": "CltgEuZ_VP0Z",
        "colab_type": "text"
      },
      "source": [
        "Using zscore to detect outliers"
      ]
    },
    {
      "cell_type": "code",
      "metadata": {
        "id": "Zcqjlj7jWOdJ",
        "colab_type": "code",
        "colab": {
          "base_uri": "https://localhost:8080/",
          "height": 731
        },
        "outputId": "1b3c3635-920f-4d22-92a1-55fc56759071"
      },
      "source": [
        "#detecting outliers in the column bluecars_returned_sum\n",
        "\n",
        "z = np.abs(stats.zscore(autolib['BLUECARS_RETURNED_SUM']))\n",
        "z\n",
        "threshold = 3\n",
        "print(np.where(z > 3))\n",
        "\n",
        "#The following column numbers are considered to be outliers"
      ],
      "execution_count": null,
      "outputs": [
        {
          "output_type": "stream",
          "text": [
            "(array([1572, 1579, 1586, 1593, 1625, 1712, 1728, 1729, 1735, 1742, 1749,\n",
            "       1764, 1795, 1817, 1824, 1848, 1854, 1855, 1861, 1862, 1868, 1878,\n",
            "       1884, 1891, 1898, 1899, 1905, 1919, 1937, 1938, 1951, 1952, 1965,\n",
            "       1972, 2003, 2004, 2010, 2011, 2017, 2018, 2024, 2040, 2173, 2184,\n",
            "       2185, 2186, 2188, 2189, 2190, 2191, 2192, 2193, 2194, 2195, 2196,\n",
            "       2197, 2198, 2199, 2200, 2201, 2202, 2203, 2204, 2205, 2206, 2207,\n",
            "       2208, 2209, 2210, 2211, 2212, 2213, 2214, 2215, 2216, 2217, 2218,\n",
            "       2219, 2220, 2222, 2223, 2224, 2225, 2226, 2227, 2228, 2229, 2230,\n",
            "       2231, 2232, 2233, 2234, 2235, 2236, 2237, 2239, 2240, 2241, 2242,\n",
            "       2243, 2244, 2245, 2246, 2247, 2248, 2249, 2250, 2251, 2252, 2253,\n",
            "       2254, 2255, 2256, 2257, 2258, 2259, 2260, 2261, 2262, 2263, 2264,\n",
            "       2265, 2266, 2267, 2268, 2269, 2270, 2271, 2272, 2273, 2274, 2275,\n",
            "       2276, 2277, 2278, 2279, 2280, 2281, 2282, 2283, 2284, 2285, 2286,\n",
            "       2287, 2288, 2289, 2290, 2291, 2292, 2293, 2294, 2295, 2296, 2297,\n",
            "       2298, 2299, 2300, 2301, 2302, 2303, 2304, 2305, 2306, 2307, 2308,\n",
            "       2310, 2311, 2313, 2314, 2315, 2316, 2317, 2318, 2319, 2320, 2321,\n",
            "       2322, 2323, 2324, 2325, 2326, 2327, 2328, 2329, 2330, 2331, 2332,\n",
            "       2333, 2334, 2335, 2336, 2337, 2338, 2344, 2345, 2346, 2349, 2350,\n",
            "       2351, 2352, 2353, 2355, 2356, 2357, 2358, 2359, 2360, 2361, 2362,\n",
            "       2363, 2364, 2365, 2366, 2367, 2369, 2370, 2371, 2372, 2373, 2374,\n",
            "       2375, 2376, 2378, 2379, 2380, 2381, 2383, 2384, 2385, 2386, 2387,\n",
            "       2388, 2391, 2392, 2393, 2396, 2397, 2398, 2399, 2400, 2401, 2402,\n",
            "       2403, 2404, 2405, 2406, 2407, 2408, 2409, 2410, 2411, 2412, 2413,\n",
            "       2414, 2415, 2416, 2417, 2418, 2419, 2420, 2422, 2423, 2424, 2425,\n",
            "       2426, 2427, 2428, 2429, 2430, 2431, 2432, 2433, 2434, 2435, 2436,\n",
            "       2437, 2438, 2439, 2440, 2441, 2443, 2444, 2446, 2447, 2448, 2453,\n",
            "       2454, 2455, 2457, 2458, 2459, 2460, 2461, 2462, 2463, 2464, 2466,\n",
            "       2467, 2469, 2470, 2471, 2472, 2473, 2474, 2475, 2476, 2477, 2478,\n",
            "       2479, 2480, 2481, 2482, 2483, 2484, 2485, 2486, 2487, 2488, 2489,\n",
            "       2490, 2491, 2492, 2493, 2494, 2500, 2501, 2502, 2506, 2507, 2508,\n",
            "       2509, 2514, 2515, 2516, 2519, 2521, 2522, 2523, 2525, 2526, 2527,\n",
            "       2528, 2529, 2530, 2535, 2536, 2537, 2540, 2541, 2542, 2543, 2544,\n",
            "       2548, 2552, 2553, 2554, 2555, 2557, 2558, 2559, 2560, 2561, 2562,\n",
            "       2567, 2568, 2569, 2571, 2573, 2574, 2575, 2576, 2577, 2578, 2579,\n",
            "       2580, 2581, 2582, 2583, 2584, 2585, 2586, 2587, 2588, 2589, 2590,\n",
            "       2591, 2592, 2594, 2595, 2596, 2597, 2602, 2603, 2604, 2608, 2609,\n",
            "       2610, 2612, 2613, 2615, 2616, 2617, 2618, 2622, 2623, 2625, 2626,\n",
            "       2627, 2628, 2629, 2631, 2632, 2633, 2634, 2635, 2636, 2637, 2638,\n",
            "       2639, 2640, 2641, 2642, 2643, 2644, 2645, 2646, 2647, 2648, 2649,\n",
            "       2820, 2821, 2827, 2828, 2842, 2848, 2849, 2866, 2873, 2874, 2880,\n",
            "       2881, 2887, 2888, 2902, 2908, 2909, 2915, 2916, 2929, 2930, 2939,\n",
            "       2940, 2946, 2947, 2953, 2954, 2961, 2977, 3030, 3103]),)\n"
          ],
          "name": "stdout"
        }
      ]
    },
    {
      "cell_type": "code",
      "metadata": {
        "id": "ZmhojLN1XwN9",
        "colab_type": "code",
        "colab": {
          "base_uri": "https://localhost:8080/",
          "height": 765
        },
        "outputId": "88223f0f-2a6e-4f69-fa73-05d34ee04849"
      },
      "source": [
        "#Repeating the same to detect outliers in the column bluecars_taken_sum\n",
        "\n",
        "z = np.abs(stats.zscore(autolib['BLUECARS_TAKEN_SUM']))\n",
        "print(z)\n",
        "threshold = 3\n",
        "print(np.where(z > 3))\n",
        "\n",
        "#The following column numbers are considered to be outliers"
      ],
      "execution_count": null,
      "outputs": [
        {
          "output_type": "stream",
          "text": [
            "[0.08589624 0.15061389 0.06511162 ... 0.50116785 0.61981688 0.66835512]\n",
            "(array([1565, 1572, 1579, 1593, 1625, 1639, 1712, 1728, 1735, 1742, 1749,\n",
            "       1764, 1795, 1817, 1824, 1848, 1854, 1861, 1862, 1868, 1884, 1891,\n",
            "       1898, 1899, 1905, 1937, 1938, 1951, 1952, 1965, 1972, 2003, 2004,\n",
            "       2010, 2011, 2017, 2018, 2024, 2061, 2159, 2173, 2184, 2185, 2186,\n",
            "       2188, 2189, 2190, 2191, 2192, 2193, 2194, 2195, 2196, 2197, 2198,\n",
            "       2199, 2200, 2201, 2202, 2203, 2204, 2205, 2206, 2207, 2208, 2209,\n",
            "       2210, 2211, 2212, 2213, 2214, 2215, 2216, 2217, 2218, 2219, 2220,\n",
            "       2222, 2223, 2224, 2225, 2226, 2227, 2228, 2229, 2230, 2231, 2232,\n",
            "       2234, 2235, 2236, 2237, 2239, 2240, 2241, 2242, 2243, 2244, 2245,\n",
            "       2246, 2247, 2248, 2249, 2250, 2251, 2252, 2253, 2254, 2255, 2256,\n",
            "       2257, 2258, 2259, 2260, 2261, 2262, 2263, 2264, 2265, 2266, 2267,\n",
            "       2268, 2269, 2270, 2271, 2272, 2273, 2274, 2275, 2276, 2277, 2278,\n",
            "       2279, 2280, 2281, 2282, 2283, 2284, 2285, 2286, 2287, 2288, 2289,\n",
            "       2290, 2291, 2292, 2294, 2295, 2296, 2297, 2298, 2299, 2300, 2301,\n",
            "       2302, 2303, 2304, 2305, 2306, 2307, 2308, 2310, 2311, 2313, 2314,\n",
            "       2315, 2316, 2317, 2318, 2319, 2320, 2321, 2322, 2323, 2324, 2325,\n",
            "       2326, 2327, 2328, 2329, 2330, 2331, 2332, 2333, 2334, 2335, 2336,\n",
            "       2337, 2340, 2344, 2345, 2346, 2348, 2349, 2350, 2351, 2352, 2353,\n",
            "       2355, 2356, 2357, 2358, 2359, 2360, 2361, 2362, 2363, 2364, 2365,\n",
            "       2366, 2367, 2369, 2370, 2371, 2372, 2373, 2374, 2375, 2376, 2378,\n",
            "       2379, 2380, 2381, 2383, 2384, 2385, 2386, 2387, 2388, 2390, 2391,\n",
            "       2392, 2393, 2395, 2396, 2397, 2398, 2399, 2400, 2401, 2402, 2403,\n",
            "       2404, 2405, 2406, 2408, 2409, 2410, 2411, 2412, 2413, 2414, 2415,\n",
            "       2416, 2417, 2418, 2419, 2420, 2422, 2423, 2424, 2425, 2426, 2427,\n",
            "       2428, 2429, 2430, 2431, 2432, 2433, 2434, 2435, 2436, 2437, 2438,\n",
            "       2439, 2440, 2441, 2443, 2444, 2446, 2447, 2448, 2453, 2454, 2455,\n",
            "       2458, 2459, 2460, 2461, 2462, 2463, 2464, 2466, 2467, 2469, 2470,\n",
            "       2471, 2472, 2473, 2474, 2475, 2476, 2477, 2478, 2479, 2480, 2481,\n",
            "       2482, 2483, 2484, 2485, 2486, 2487, 2488, 2489, 2490, 2491, 2492,\n",
            "       2493, 2494, 2500, 2501, 2502, 2504, 2506, 2507, 2508, 2509, 2511,\n",
            "       2513, 2514, 2515, 2516, 2520, 2521, 2522, 2523, 2524, 2525, 2526,\n",
            "       2527, 2528, 2529, 2530, 2531, 2532, 2535, 2536, 2537, 2540, 2541,\n",
            "       2542, 2543, 2544, 2547, 2548, 2549, 2552, 2553, 2554, 2555, 2557,\n",
            "       2558, 2559, 2560, 2561, 2562, 2567, 2568, 2569, 2571, 2573, 2574,\n",
            "       2575, 2576, 2577, 2578, 2579, 2580, 2581, 2582, 2583, 2584, 2585,\n",
            "       2586, 2587, 2588, 2589, 2590, 2591, 2592, 2593, 2594, 2595, 2596,\n",
            "       2597, 2602, 2603, 2604, 2606, 2607, 2608, 2609, 2610, 2612, 2613,\n",
            "       2614, 2615, 2616, 2617, 2618, 2622, 2623, 2625, 2626, 2627, 2628,\n",
            "       2629, 2630, 2631, 2632, 2633, 2634, 2635, 2636, 2637, 2638, 2639,\n",
            "       2640, 2641, 2642, 2643, 2644, 2645, 2646, 2647, 2648, 2649, 2820,\n",
            "       2821, 2827, 2834, 2841, 2848, 2849, 2873, 2874, 2880, 2881, 2887,\n",
            "       2888, 2902, 2908, 2915, 2916, 2929, 2930, 2939, 2940, 2946, 2947,\n",
            "       2953, 2954, 2960, 2976, 2977, 2983]),)\n"
          ],
          "name": "stdout"
        }
      ]
    },
    {
      "cell_type": "markdown",
      "metadata": {
        "id": "VuHiGXRubi41",
        "colab_type": "text"
      },
      "source": [
        "Dealing with the outliers: Correcting, removing (using zscore)\n"
      ]
    },
    {
      "cell_type": "code",
      "metadata": {
        "id": "xjGs8Tc8s6wJ",
        "colab_type": "code",
        "colab": {
          "base_uri": "https://localhost:8080/",
          "height": 419
        },
        "outputId": "2e9bec4f-853e-459e-dde9-4fc661c2ace2"
      },
      "source": [
        "autolib1 = autolib.drop(['POSTAL_CODE', 'DATE', 'DAYOFWEEK', 'DAY_TYPE', 'UTILIB_TAKEN_SUM', 'UTILIB_RETURNED_SUM', 'UTILIB_14_TAKEN_SUM', 'UTILIB_14_RETURNED_SUM', 'SLOTS_FREED_SUM', 'SLOTS_TAKEN_SUM' ], axis=1)\n",
        "autolib1"
      ],
      "execution_count": null,
      "outputs": [
        {
          "output_type": "execute_result",
          "data": {
            "text/html": [
              "<div>\n",
              "<style scoped>\n",
              "    .dataframe tbody tr th:only-of-type {\n",
              "        vertical-align: middle;\n",
              "    }\n",
              "\n",
              "    .dataframe tbody tr th {\n",
              "        vertical-align: top;\n",
              "    }\n",
              "\n",
              "    .dataframe thead th {\n",
              "        text-align: right;\n",
              "    }\n",
              "</style>\n",
              "<table border=\"1\" class=\"dataframe\">\n",
              "  <thead>\n",
              "    <tr style=\"text-align: right;\">\n",
              "      <th></th>\n",
              "      <th>N_DAILY_DATA_POINTS</th>\n",
              "      <th>BLUECARS_TAKEN_SUM</th>\n",
              "      <th>BLUECARS_RETURNED_SUM</th>\n",
              "    </tr>\n",
              "  </thead>\n",
              "  <tbody>\n",
              "    <tr>\n",
              "      <th>0</th>\n",
              "      <td>1440</td>\n",
              "      <td>110</td>\n",
              "      <td>103</td>\n",
              "    </tr>\n",
              "    <tr>\n",
              "      <th>1</th>\n",
              "      <td>1438</td>\n",
              "      <td>98</td>\n",
              "      <td>94</td>\n",
              "    </tr>\n",
              "    <tr>\n",
              "      <th>2</th>\n",
              "      <td>1439</td>\n",
              "      <td>138</td>\n",
              "      <td>139</td>\n",
              "    </tr>\n",
              "    <tr>\n",
              "      <th>3</th>\n",
              "      <td>1320</td>\n",
              "      <td>104</td>\n",
              "      <td>104</td>\n",
              "    </tr>\n",
              "    <tr>\n",
              "      <th>4</th>\n",
              "      <td>1440</td>\n",
              "      <td>114</td>\n",
              "      <td>117</td>\n",
              "    </tr>\n",
              "    <tr>\n",
              "      <th>...</th>\n",
              "      <td>...</td>\n",
              "      <td>...</td>\n",
              "      <td>...</td>\n",
              "    </tr>\n",
              "    <tr>\n",
              "      <th>16080</th>\n",
              "      <td>1440</td>\n",
              "      <td>15</td>\n",
              "      <td>10</td>\n",
              "    </tr>\n",
              "    <tr>\n",
              "      <th>16081</th>\n",
              "      <td>1440</td>\n",
              "      <td>19</td>\n",
              "      <td>19</td>\n",
              "    </tr>\n",
              "    <tr>\n",
              "      <th>16082</th>\n",
              "      <td>1440</td>\n",
              "      <td>33</td>\n",
              "      <td>35</td>\n",
              "    </tr>\n",
              "    <tr>\n",
              "      <th>16083</th>\n",
              "      <td>1440</td>\n",
              "      <td>11</td>\n",
              "      <td>14</td>\n",
              "    </tr>\n",
              "    <tr>\n",
              "      <th>16084</th>\n",
              "      <td>1370</td>\n",
              "      <td>2</td>\n",
              "      <td>2</td>\n",
              "    </tr>\n",
              "  </tbody>\n",
              "</table>\n",
              "<p>16085 rows × 3 columns</p>\n",
              "</div>"
            ],
            "text/plain": [
              "       N_DAILY_DATA_POINTS  BLUECARS_TAKEN_SUM  BLUECARS_RETURNED_SUM\n",
              "0                     1440                 110                    103\n",
              "1                     1438                  98                     94\n",
              "2                     1439                 138                    139\n",
              "3                     1320                 104                    104\n",
              "4                     1440                 114                    117\n",
              "...                    ...                 ...                    ...\n",
              "16080                 1440                  15                     10\n",
              "16081                 1440                  19                     19\n",
              "16082                 1440                  33                     35\n",
              "16083                 1440                  11                     14\n",
              "16084                 1370                   2                      2\n",
              "\n",
              "[16085 rows x 3 columns]"
            ]
          },
          "metadata": {
            "tags": []
          },
          "execution_count": 117
        }
      ]
    },
    {
      "cell_type": "code",
      "metadata": {
        "id": "RpiwLo1cwREQ",
        "colab_type": "code",
        "colab": {
          "base_uri": "https://localhost:8080/",
          "height": 34
        },
        "outputId": "31560b7a-55d4-43f5-81db-8f132e96fe47"
      },
      "source": [
        "z = np.abs(stats.zscore(autolib1))\n",
        "z\n",
        "threshold = 3\n",
        "print(np.where(z > 3))"
      ],
      "execution_count": null,
      "outputs": [
        {
          "output_type": "stream",
          "text": [
            "(array([    3,    93,   105, ..., 16022, 16034, 16057]), array([0, 0, 0, ..., 0, 0, 0]))\n"
          ],
          "name": "stdout"
        }
      ]
    },
    {
      "cell_type": "code",
      "metadata": {
        "id": "3kyNcRtDzqYq",
        "colab_type": "code",
        "colab": {}
      },
      "source": [
        "autolib2 = autolib1[(z < 3).all(axis=1)]"
      ],
      "execution_count": null,
      "outputs": []
    },
    {
      "cell_type": "code",
      "metadata": {
        "id": "BnnVbuCez5CZ",
        "colab_type": "code",
        "colab": {
          "base_uri": "https://localhost:8080/",
          "height": 34
        },
        "outputId": "7c457ad0-948b-49ba-a9ec-5028ac3a3f92"
      },
      "source": [
        "autolib1.shape"
      ],
      "execution_count": null,
      "outputs": [
        {
          "output_type": "execute_result",
          "data": {
            "text/plain": [
              "(16085, 3)"
            ]
          },
          "metadata": {
            "tags": []
          },
          "execution_count": 120
        }
      ]
    },
    {
      "cell_type": "code",
      "metadata": {
        "id": "mfC-_k1Jz9Sv",
        "colab_type": "code",
        "colab": {
          "base_uri": "https://localhost:8080/",
          "height": 34
        },
        "outputId": "3dd475dc-b6c8-4298-97a1-983968c7be3a"
      },
      "source": [
        "autolib2.shape\n",
        "\n",
        "#The size of the dataset has reduced indicating that the outliers have been deleted"
      ],
      "execution_count": null,
      "outputs": [
        {
          "output_type": "execute_result",
          "data": {
            "text/plain": [
              "(15190, 3)"
            ]
          },
          "metadata": {
            "tags": []
          },
          "execution_count": 121
        }
      ]
    },
    {
      "cell_type": "markdown",
      "metadata": {
        "id": "fPKXTjP2CWQQ",
        "colab_type": "text"
      },
      "source": [
        "Checking for anomalies and missing data\n"
      ]
    },
    {
      "cell_type": "code",
      "metadata": {
        "id": "LzaGgLyNCYMk",
        "colab_type": "code",
        "colab": {
          "base_uri": "https://localhost:8080/",
          "height": 255
        },
        "outputId": "28992508-1876-4f0a-b018-719a34d695e6"
      },
      "source": [
        "#Find out if there are missing values.\n",
        "autolib.isnull().sum()"
      ],
      "execution_count": null,
      "outputs": [
        {
          "output_type": "execute_result",
          "data": {
            "text/plain": [
              "POSTAL_CODE               0\n",
              "DATE                      0\n",
              "N_DAILY_DATA_POINTS       0\n",
              "DAYOFWEEK                 0\n",
              "DAY_TYPE                  0\n",
              "BLUECARS_TAKEN_SUM        0\n",
              "BLUECARS_RETURNED_SUM     0\n",
              "UTILIB_TAKEN_SUM          0\n",
              "UTILIB_RETURNED_SUM       0\n",
              "UTILIB_14_TAKEN_SUM       0\n",
              "UTILIB_14_RETURNED_SUM    0\n",
              "SLOTS_FREED_SUM           0\n",
              "SLOTS_TAKEN_SUM           0\n",
              "dtype: int64"
            ]
          },
          "metadata": {
            "tags": []
          },
          "execution_count": 122
        }
      ]
    },
    {
      "cell_type": "code",
      "metadata": {
        "id": "Y_UFINRUCePu",
        "colab_type": "code",
        "colab": {
          "base_uri": "https://localhost:8080/",
          "height": 85
        },
        "outputId": "bb251c66-6c0d-481f-ac39-7564621504ce"
      },
      "source": [
        "autolib2.isnull().sum()"
      ],
      "execution_count": null,
      "outputs": [
        {
          "output_type": "execute_result",
          "data": {
            "text/plain": [
              "N_DAILY_DATA_POINTS      0\n",
              "BLUECARS_TAKEN_SUM       0\n",
              "BLUECARS_RETURNED_SUM    0\n",
              "dtype: int64"
            ]
          },
          "metadata": {
            "tags": []
          },
          "execution_count": 123
        }
      ]
    },
    {
      "cell_type": "markdown",
      "metadata": {
        "id": "zlfqAkQpCvjQ",
        "colab_type": "text"
      },
      "source": [
        "There seems to be no missing data or values in the autolib dataset"
      ]
    },
    {
      "cell_type": "markdown",
      "metadata": {
        "id": "hYZc9LZREB_z",
        "colab_type": "text"
      },
      "source": [
        "Finding Range, Quantiles and Quantile ranges\n"
      ]
    },
    {
      "cell_type": "code",
      "metadata": {
        "id": "HjL5jF6NIn_E",
        "colab_type": "code",
        "colab": {
          "base_uri": "https://localhost:8080/",
          "height": 51
        },
        "outputId": "a7193cfa-062d-4e44-8e36-0f86c41ff7c2"
      },
      "source": [
        "#Find the range between the maximum and minimum value \n",
        "\n",
        "maximum_value = autolib2.BLUECARS_TAKEN_SUM.max()\n",
        "minimum_value = autolib2.BLUECARS_TAKEN_SUM.min()\n",
        "range = maximum_value - minimum_value\n",
        "\n",
        "print('range of taken bluecars', range)\n",
        "\n",
        "maximum_value = autolib2.BLUECARS_RETURNED_SUM.max()\n",
        "minimum_value = autolib2.BLUECARS_RETURNED_SUM.min()\n",
        "range1 = maximum_value - minimum_value\n",
        "\n",
        "print('range of returned bluecars', range1)"
      ],
      "execution_count": null,
      "outputs": [
        {
          "output_type": "stream",
          "text": [
            "range of taken bluecars 682\n",
            "range of returned bluecars 682\n"
          ],
          "name": "stdout"
        }
      ]
    },
    {
      "cell_type": "code",
      "metadata": {
        "id": "mW-VYNAPEIhc",
        "colab_type": "code",
        "colab": {
          "base_uri": "https://localhost:8080/",
          "height": 85
        },
        "outputId": "7e7e5de6-4343-46e7-ab3d-d0e9b3327695"
      },
      "source": [
        "#Finding the quartiles of the bluecars_taken_sum column\n",
        "\n",
        "autolib2.BLUECARS_TAKEN_SUM.quantile([0.25, 0.5, 0.75])"
      ],
      "execution_count": null,
      "outputs": [
        {
          "output_type": "execute_result",
          "data": {
            "text/plain": [
              "0.25     19.0\n",
              "0.50     44.0\n",
              "0.75    117.0\n",
              "Name: BLUECARS_TAKEN_SUM, dtype: float64"
            ]
          },
          "metadata": {
            "tags": []
          },
          "execution_count": 125
        }
      ]
    },
    {
      "cell_type": "code",
      "metadata": {
        "id": "X-Dp9OxqEXTL",
        "colab_type": "code",
        "colab": {
          "base_uri": "https://localhost:8080/",
          "height": 85
        },
        "outputId": "500d518a-f179-4113-9b42-a9c0095d39d4"
      },
      "source": [
        "#Finding the quartiles of the bluecars_returned_sum column\n",
        "\n",
        "autolib2.BLUECARS_RETURNED_SUM.quantile([0.25, 0.5, 0.75])"
      ],
      "execution_count": null,
      "outputs": [
        {
          "output_type": "execute_result",
          "data": {
            "text/plain": [
              "0.25     19.0\n",
              "0.50     44.0\n",
              "0.75    118.0\n",
              "Name: BLUECARS_RETURNED_SUM, dtype: float64"
            ]
          },
          "metadata": {
            "tags": []
          },
          "execution_count": 126
        }
      ]
    },
    {
      "cell_type": "markdown",
      "metadata": {
        "id": "9bQWjuz_GpYH",
        "colab_type": "text"
      },
      "source": [
        "Descriptive analysis of the blue cars\n",
        "\n",
        "Measures of central tendency\n",
        "\n",
        "mean, mode and median"
      ]
    },
    {
      "cell_type": "code",
      "metadata": {
        "id": "AriFUNwLGvl_",
        "colab_type": "code",
        "colab": {
          "base_uri": "https://localhost:8080/",
          "height": 85
        },
        "outputId": "ad4dbc21-0e59-4882-dfc6-9cd3098978fc"
      },
      "source": [
        "#Finding the mode\n",
        "#Finding the mean\n",
        "#Finding the median\n",
        "\n",
        "print('mean =', autolib2.BLUECARS_RETURNED_SUM.mean())\n",
        "print('median =', autolib2.BLUECARS_RETURNED_SUM.median())\n",
        "print('mode =', autolib2.BLUECARS_RETURNED_SUM.mode())\n"
      ],
      "execution_count": null,
      "outputs": [
        {
          "output_type": "stream",
          "text": [
            "mean = 104.16458196181698\n",
            "median = 44.0\n",
            "mode = 0    13\n",
            "dtype: int64\n"
          ],
          "name": "stdout"
        }
      ]
    },
    {
      "cell_type": "code",
      "metadata": {
        "id": "R3rOp-0sG2js",
        "colab_type": "code",
        "colab": {
          "base_uri": "https://localhost:8080/",
          "height": 85
        },
        "outputId": "007be46b-dfdd-400c-af73-9814e0e743a8"
      },
      "source": [
        "#Finding the mode\n",
        "#Finding the mean\n",
        "#Finding the median\n",
        "\n",
        "print('mode =', autolib2.BLUECARS_TAKEN_SUM.mode())\n",
        "print('mean =', autolib2.BLUECARS_TAKEN_SUM.mean())\n",
        "print('median =', autolib2.BLUECARS_TAKEN_SUM.median())"
      ],
      "execution_count": null,
      "outputs": [
        {
          "output_type": "stream",
          "text": [
            "mode = 0    12\n",
            "dtype: int64\n",
            "mean = 104.16280447662936\n",
            "median = 44.0\n"
          ],
          "name": "stdout"
        }
      ]
    },
    {
      "cell_type": "markdown",
      "metadata": {
        "id": "P696FwHMLmUa",
        "colab_type": "text"
      },
      "source": [
        "Measures of dispersion\n",
        "\n",
        "Variance, kurtosis, skewness and standard deviation"
      ]
    },
    {
      "cell_type": "code",
      "metadata": {
        "id": "ZYG3VN5qMdKc",
        "colab_type": "code",
        "colab": {
          "base_uri": "https://localhost:8080/",
          "height": 85
        },
        "outputId": "a459e4e2-0c0f-4ff9-c45e-d008ec3751b7"
      },
      "source": [
        "\n",
        "print(\"Variance: \",autolib2.BLUECARS_TAKEN_SUM.var())\n",
        "print(\"Kurtosis: \",autolib2.BLUECARS_TAKEN_SUM.kurt())\n",
        "print(\"Skewness: \",autolib2.BLUECARS_TAKEN_SUM.skew())\n",
        "print(\"Std Dev: \",autolib.BLUECARS_TAKEN_SUM.std())"
      ],
      "execution_count": null,
      "outputs": [
        {
          "output_type": "stream",
          "text": [
            "Variance:  19221.439883107767\n",
            "Kurtosis:  3.1926939712895996\n",
            "Skewness:  1.9708474700939793\n",
            "Std Dev:  185.42657876727893\n"
          ],
          "name": "stdout"
        }
      ]
    },
    {
      "cell_type": "code",
      "metadata": {
        "id": "HX8d1fdfM1qs",
        "colab_type": "code",
        "colab": {
          "base_uri": "https://localhost:8080/",
          "height": 85
        },
        "outputId": "4f350926-8725-433f-da58-0317a56d319f"
      },
      "source": [
        "print(\"Variance: \",autolib2.BLUECARS_RETURNED_SUM.var())\n",
        "print(\"Kurtosis: \",autolib2.BLUECARS_RETURNED_SUM.kurt())\n",
        "print(\"Skewness: \",autolib2.BLUECARS_RETURNED_SUM.skew())\n",
        "print(\"Std Dev: \",autolib.BLUECARS_RETURNED_SUM.std())\n"
      ],
      "execution_count": null,
      "outputs": [
        {
          "output_type": "stream",
          "text": [
            "Variance:  19243.157189090776\n",
            "Kurtosis:  3.251208595723861\n",
            "Skewness:  1.9818702288633276\n",
            "Std Dev:  185.50153480148427\n"
          ],
          "name": "stdout"
        }
      ]
    },
    {
      "cell_type": "markdown",
      "metadata": {
        "id": "-inqPxvrNr6n",
        "colab_type": "text"
      },
      "source": [
        "A kurtosis of 3 means the distribution produces fewer and less extreme outliers than does the normal distribution.\n",
        "Distributions with kurtosis greater than 3 are said to be leptokurtic."
      ]
    },
    {
      "cell_type": "markdown",
      "metadata": {
        "id": "wfHq4kH9UOib",
        "colab_type": "text"
      },
      "source": [
        "BIVARIATE ANALYSIS"
      ]
    },
    {
      "cell_type": "code",
      "metadata": {
        "id": "vOLL99xHUcH5",
        "colab_type": "code",
        "colab": {
          "base_uri": "https://localhost:8080/",
          "height": 567
        },
        "outputId": "57078ec5-752b-4e70-d3f3-d5604f26b4ca"
      },
      "source": [
        "# Ploting the bivariate summaries and recording our observations\n",
        "\n",
        "sns.pairplot(autolib2)\n",
        "plt.show()\n",
        "\n",
        "#The pairplot below shows us that there is a positive correlation/relationship between blue cars taken and bluecars returned\n"
      ],
      "execution_count": null,
      "outputs": [
        {
          "output_type": "display_data",
          "data": {
            "image/png": "[encoded data removed]",
            "text/plain": [
              "<Figure size 540x540 with 12 Axes>"
            ]
          },
          "metadata": {
            "tags": [],
            "needs_background": "light"
          }
        }
      ]
    },
    {
      "cell_type": "markdown",
      "metadata": {
        "id": "ZZRBxPTRiru4",
        "colab_type": "text"
      },
      "source": [
        "Drawing a heatmap for the dataset"
      ]
    },
    {
      "cell_type": "code",
      "metadata": {
        "id": "re1kPndki077",
        "colab_type": "code",
        "colab": {
          "base_uri": "https://localhost:8080/",
          "height": 399
        },
        "outputId": "f2df4ebc-b130-402a-e001-19368259c082"
      },
      "source": [
        "# Plotting the Pearson correlation coefficient among numeric variables\n",
        "#There is close correlation between bluecars taken and bluecars returned\n",
        "#This is so because of the colour associated with the values close to \n",
        "#or equal to 1\n",
        "\n",
        "sns.heatmap(autolib2.corr(),annot=True)\n",
        "plt.show()"
      ],
      "execution_count": null,
      "outputs": [
        {
          "output_type": "display_data",
          "data": {
            "image/png": "[encoded data removed]",
            "text/plain": [
              "<Figure size 432x288 with 2 Axes>"
            ]
          },
          "metadata": {
            "tags": [],
            "needs_background": "light"
          }
        }
      ]
    },
    {
      "cell_type": "markdown",
      "metadata": {
        "id": "U1ioqxqKjrIm",
        "colab_type": "text"
      },
      "source": [
        "HYPOTHESIS TESTING\n",
        "\n",
        "Defining the hypothesis"
      ]
    },
    {
      "cell_type": "markdown",
      "metadata": {
        "id": "SGB2AGjyGH5f",
        "colab_type": "text"
      },
      "source": [
        "A sample of 1500 from two different postal codes (different areas) were picked for thw purpose of hypothesis testing. Postal codes that were picked are 92150 and 92380.\n",
        "null hypothesis: The number of blue cars taken in area with postal code 75001 is different from the number of bluecars taken in area with postal code 75010\n",
        "m0 /= m1\n",
        "\n",
        "confidence level to be used in the sample population is 95%\n",
        "\n",
        "\n",
        "alternate hypothesis: The number of blue cars taken in area with postal code 92150 is similar to the number of bluecars taken in area with postal code 92380.\n",
        "m0 = m1\n",
        "\n",
        "where m=number of blue cars taken\n",
        "\n",
        "SAMPLING\n",
        "\n",
        "Simple random sampling will be used in the sampling process. The data will be sampled randomly so as to eliminate any bias in the selection process.\n",
        "The advantages are that your sample represents the target population and eliminates sampling bias."
      ]
    },
    {
      "cell_type": "code",
      "metadata": {
        "id": "ZoXUbFY9HXCP",
        "colab_type": "code",
        "colab": {
          "base_uri": "https://localhost:8080/",
          "height": 255
        },
        "outputId": "955d462e-a4d8-44fd-9421-3d8a7848ec61"
      },
      "source": [
        "#Select a sample from the autolib dataset. (Technique : Simple Random Sampling)\n",
        "autolib3 = autolib.sample(n=1500,replace='False')\n",
        "print(autolib3)"
      ],
      "execution_count": null,
      "outputs": [
        {
          "output_type": "stream",
          "text": [
            "       POSTAL_CODE       DATE  ...  SLOTS_FREED_SUM  SLOTS_TAKEN_SUM\n",
            "14216        94220 2020-09-04  ...                0                0\n",
            "5395         92150 2020-09-04  ...                4                5\n",
            "10480        93150 2020-09-04  ...                0                0\n",
            "15586        94800 2020-09-04  ...                0                0\n",
            "7522         92310 2020-09-04  ...                0                0\n",
            "...            ...        ...  ...              ...              ...\n",
            "6789         92250 2020-09-04  ...                2                2\n",
            "6267         92220 2020-09-04  ...                2                1\n",
            "5733         92170 2020-09-04  ...                0                0\n",
            "6191         92210 2020-09-04  ...                3                3\n",
            "8789         92390 2020-09-04  ...                0                0\n",
            "\n",
            "[1500 rows x 13 columns]\n"
          ],
          "name": "stdout"
        }
      ]
    },
    {
      "cell_type": "code",
      "metadata": {
        "id": "JG6_n_LhOqBO",
        "colab_type": "code",
        "colab": {
          "base_uri": "https://localhost:8080/",
          "height": 34
        },
        "outputId": "9efb49f8-3748-4b27-e314-b74513ebfaa5"
      },
      "source": [
        "#Standard deviation of the sample\n",
        "\n",
        "autolib3.BLUECARS_TAKEN_SUM.std()"
      ],
      "execution_count": null,
      "outputs": [
        {
          "output_type": "execute_result",
          "data": {
            "text/plain": [
              "189.6323158803656"
            ]
          },
          "metadata": {
            "tags": []
          },
          "execution_count": 148
        }
      ]
    },
    {
      "cell_type": "code",
      "metadata": {
        "id": "cpIJOfMWR-Ii",
        "colab_type": "code",
        "colab": {
          "base_uri": "https://localhost:8080/",
          "height": 34
        },
        "outputId": "5233608b-c329-4219-bc5b-45312976b4d1"
      },
      "source": [
        "#Standard deviation of the sample\n",
        "\n",
        "autolib3.BLUECARS_TAKEN_SUM.mean()"
      ],
      "execution_count": null,
      "outputs": [
        {
          "output_type": "execute_result",
          "data": {
            "text/plain": [
              "129.372"
            ]
          },
          "metadata": {
            "tags": []
          },
          "execution_count": 149
        }
      ]
    },
    {
      "cell_type": "code",
      "metadata": {
        "id": "003WVfJIS3Lb",
        "colab_type": "code",
        "colab": {
          "base_uri": "https://localhost:8080/",
          "height": 609
        },
        "outputId": "dd91bb76-5d45-4f52-cc4e-9c5e942603eb"
      },
      "source": [
        "#Determining te number of\n",
        "Post = autolib[(autolib.POSTAL_CODE == 92150) & (autolib.DAY_TYPE == 'weekday')]\n",
        "Post\n"
      ],
      "execution_count": null,
      "outputs": [
        {
          "output_type": "execute_result",
          "data": {
            "text/html": [
              "<div>\n",
              "<style scoped>\n",
              "    .dataframe tbody tr th:only-of-type {\n",
              "        vertical-align: middle;\n",
              "    }\n",
              "\n",
              "    .dataframe tbody tr th {\n",
              "        vertical-align: top;\n",
              "    }\n",
              "\n",
              "    .dataframe thead th {\n",
              "        text-align: right;\n",
              "    }\n",
              "</style>\n",
              "<table border=\"1\" class=\"dataframe\">\n",
              "  <thead>\n",
              "    <tr style=\"text-align: right;\">\n",
              "      <th></th>\n",
              "      <th>POSTAL_CODE</th>\n",
              "      <th>DATE</th>\n",
              "      <th>N_DAILY_DATA_POINTS</th>\n",
              "      <th>DAYOFWEEK</th>\n",
              "      <th>DAY_TYPE</th>\n",
              "      <th>BLUECARS_TAKEN_SUM</th>\n",
              "      <th>BLUECARS_RETURNED_SUM</th>\n",
              "      <th>UTILIB_TAKEN_SUM</th>\n",
              "      <th>UTILIB_RETURNED_SUM</th>\n",
              "      <th>UTILIB_14_TAKEN_SUM</th>\n",
              "      <th>UTILIB_14_RETURNED_SUM</th>\n",
              "      <th>SLOTS_FREED_SUM</th>\n",
              "      <th>SLOTS_TAKEN_SUM</th>\n",
              "    </tr>\n",
              "  </thead>\n",
              "  <tbody>\n",
              "    <tr>\n",
              "      <th>5301</th>\n",
              "      <td>92150</td>\n",
              "      <td>2020-09-04</td>\n",
              "      <td>1440</td>\n",
              "      <td>0</td>\n",
              "      <td>weekday</td>\n",
              "      <td>104</td>\n",
              "      <td>122</td>\n",
              "      <td>2</td>\n",
              "      <td>2</td>\n",
              "      <td>19</td>\n",
              "      <td>21</td>\n",
              "      <td>0</td>\n",
              "      <td>0</td>\n",
              "    </tr>\n",
              "    <tr>\n",
              "      <th>5302</th>\n",
              "      <td>92150</td>\n",
              "      <td>2020-09-04</td>\n",
              "      <td>1438</td>\n",
              "      <td>1</td>\n",
              "      <td>weekday</td>\n",
              "      <td>118</td>\n",
              "      <td>121</td>\n",
              "      <td>2</td>\n",
              "      <td>4</td>\n",
              "      <td>10</td>\n",
              "      <td>5</td>\n",
              "      <td>2</td>\n",
              "      <td>2</td>\n",
              "    </tr>\n",
              "    <tr>\n",
              "      <th>5303</th>\n",
              "      <td>92150</td>\n",
              "      <td>2020-09-04</td>\n",
              "      <td>1439</td>\n",
              "      <td>2</td>\n",
              "      <td>weekday</td>\n",
              "      <td>171</td>\n",
              "      <td>153</td>\n",
              "      <td>5</td>\n",
              "      <td>7</td>\n",
              "      <td>6</td>\n",
              "      <td>8</td>\n",
              "      <td>3</td>\n",
              "      <td>3</td>\n",
              "    </tr>\n",
              "    <tr>\n",
              "      <th>5304</th>\n",
              "      <td>92150</td>\n",
              "      <td>2020-09-04</td>\n",
              "      <td>1320</td>\n",
              "      <td>3</td>\n",
              "      <td>weekday</td>\n",
              "      <td>146</td>\n",
              "      <td>154</td>\n",
              "      <td>6</td>\n",
              "      <td>3</td>\n",
              "      <td>10</td>\n",
              "      <td>7</td>\n",
              "      <td>1</td>\n",
              "      <td>1</td>\n",
              "    </tr>\n",
              "    <tr>\n",
              "      <th>5305</th>\n",
              "      <td>92150</td>\n",
              "      <td>2020-09-04</td>\n",
              "      <td>1440</td>\n",
              "      <td>4</td>\n",
              "      <td>weekday</td>\n",
              "      <td>164</td>\n",
              "      <td>176</td>\n",
              "      <td>3</td>\n",
              "      <td>6</td>\n",
              "      <td>12</td>\n",
              "      <td>15</td>\n",
              "      <td>4</td>\n",
              "      <td>4</td>\n",
              "    </tr>\n",
              "    <tr>\n",
              "      <th>...</th>\n",
              "      <td>...</td>\n",
              "      <td>...</td>\n",
              "      <td>...</td>\n",
              "      <td>...</td>\n",
              "      <td>...</td>\n",
              "      <td>...</td>\n",
              "      <td>...</td>\n",
              "      <td>...</td>\n",
              "      <td>...</td>\n",
              "      <td>...</td>\n",
              "      <td>...</td>\n",
              "      <td>...</td>\n",
              "      <td>...</td>\n",
              "    </tr>\n",
              "    <tr>\n",
              "      <th>5450</th>\n",
              "      <td>92150</td>\n",
              "      <td>2020-09-04</td>\n",
              "      <td>1440</td>\n",
              "      <td>2</td>\n",
              "      <td>weekday</td>\n",
              "      <td>176</td>\n",
              "      <td>180</td>\n",
              "      <td>6</td>\n",
              "      <td>6</td>\n",
              "      <td>11</td>\n",
              "      <td>12</td>\n",
              "      <td>7</td>\n",
              "      <td>7</td>\n",
              "    </tr>\n",
              "    <tr>\n",
              "      <th>5451</th>\n",
              "      <td>92150</td>\n",
              "      <td>2020-09-04</td>\n",
              "      <td>1439</td>\n",
              "      <td>3</td>\n",
              "      <td>weekday</td>\n",
              "      <td>175</td>\n",
              "      <td>165</td>\n",
              "      <td>5</td>\n",
              "      <td>7</td>\n",
              "      <td>12</td>\n",
              "      <td>9</td>\n",
              "      <td>3</td>\n",
              "      <td>3</td>\n",
              "    </tr>\n",
              "    <tr>\n",
              "      <th>5452</th>\n",
              "      <td>92150</td>\n",
              "      <td>2020-09-04</td>\n",
              "      <td>1440</td>\n",
              "      <td>4</td>\n",
              "      <td>weekday</td>\n",
              "      <td>204</td>\n",
              "      <td>208</td>\n",
              "      <td>7</td>\n",
              "      <td>4</td>\n",
              "      <td>8</td>\n",
              "      <td>10</td>\n",
              "      <td>4</td>\n",
              "      <td>5</td>\n",
              "    </tr>\n",
              "    <tr>\n",
              "      <th>5455</th>\n",
              "      <td>92150</td>\n",
              "      <td>2020-09-04</td>\n",
              "      <td>1440</td>\n",
              "      <td>0</td>\n",
              "      <td>weekday</td>\n",
              "      <td>162</td>\n",
              "      <td>162</td>\n",
              "      <td>2</td>\n",
              "      <td>2</td>\n",
              "      <td>8</td>\n",
              "      <td>12</td>\n",
              "      <td>3</td>\n",
              "      <td>3</td>\n",
              "    </tr>\n",
              "    <tr>\n",
              "      <th>5456</th>\n",
              "      <td>92150</td>\n",
              "      <td>2020-09-04</td>\n",
              "      <td>1370</td>\n",
              "      <td>1</td>\n",
              "      <td>weekday</td>\n",
              "      <td>4</td>\n",
              "      <td>9</td>\n",
              "      <td>0</td>\n",
              "      <td>0</td>\n",
              "      <td>1</td>\n",
              "      <td>0</td>\n",
              "      <td>0</td>\n",
              "      <td>0</td>\n",
              "    </tr>\n",
              "  </tbody>\n",
              "</table>\n",
              "<p>112 rows × 13 columns</p>\n",
              "</div>"
            ],
            "text/plain": [
              "      POSTAL_CODE       DATE  ...  SLOTS_FREED_SUM  SLOTS_TAKEN_SUM\n",
              "5301        92150 2020-09-04  ...                0                0\n",
              "5302        92150 2020-09-04  ...                2                2\n",
              "5303        92150 2020-09-04  ...                3                3\n",
              "5304        92150 2020-09-04  ...                1                1\n",
              "5305        92150 2020-09-04  ...                4                4\n",
              "...           ...        ...  ...              ...              ...\n",
              "5450        92150 2020-09-04  ...                7                7\n",
              "5451        92150 2020-09-04  ...                3                3\n",
              "5452        92150 2020-09-04  ...                4                5\n",
              "5455        92150 2020-09-04  ...                3                3\n",
              "5456        92150 2020-09-04  ...                0                0\n",
              "\n",
              "[112 rows x 13 columns]"
            ]
          },
          "metadata": {
            "tags": []
          },
          "execution_count": 146
        }
      ]
    },
    {
      "cell_type": "markdown",
      "metadata": {
        "id": "THBojqVqakmq",
        "colab_type": "text"
      },
      "source": [
        ""
      ]
    },
    {
      "cell_type": "code",
      "metadata": {
        "id": "1mGEhbMXUeFb",
        "colab_type": "code",
        "colab": {
          "base_uri": "https://localhost:8080/",
          "height": 609
        },
        "outputId": "71ec6880-336d-46a4-cc7a-9cd2e07cc1be"
      },
      "source": [
        "Post1 = autolib[(autolib.POSTAL_CODE == 92380) & (autolib.DAY_TYPE == 'weekday')]\n",
        "Post1"
      ],
      "execution_count": null,
      "outputs": [
        {
          "output_type": "execute_result",
          "data": {
            "text/html": [
              "<div>\n",
              "<style scoped>\n",
              "    .dataframe tbody tr th:only-of-type {\n",
              "        vertical-align: middle;\n",
              "    }\n",
              "\n",
              "    .dataframe tbody tr th {\n",
              "        vertical-align: top;\n",
              "    }\n",
              "\n",
              "    .dataframe thead th {\n",
              "        text-align: right;\n",
              "    }\n",
              "</style>\n",
              "<table border=\"1\" class=\"dataframe\">\n",
              "  <thead>\n",
              "    <tr style=\"text-align: right;\">\n",
              "      <th></th>\n",
              "      <th>POSTAL_CODE</th>\n",
              "      <th>DATE</th>\n",
              "      <th>N_DAILY_DATA_POINTS</th>\n",
              "      <th>DAYOFWEEK</th>\n",
              "      <th>DAY_TYPE</th>\n",
              "      <th>BLUECARS_TAKEN_SUM</th>\n",
              "      <th>BLUECARS_RETURNED_SUM</th>\n",
              "      <th>UTILIB_TAKEN_SUM</th>\n",
              "      <th>UTILIB_RETURNED_SUM</th>\n",
              "      <th>UTILIB_14_TAKEN_SUM</th>\n",
              "      <th>UTILIB_14_RETURNED_SUM</th>\n",
              "      <th>SLOTS_FREED_SUM</th>\n",
              "      <th>SLOTS_TAKEN_SUM</th>\n",
              "    </tr>\n",
              "  </thead>\n",
              "  <tbody>\n",
              "    <tr>\n",
              "      <th>8565</th>\n",
              "      <td>92380</td>\n",
              "      <td>2020-09-04</td>\n",
              "      <td>1440</td>\n",
              "      <td>0</td>\n",
              "      <td>weekday</td>\n",
              "      <td>24</td>\n",
              "      <td>18</td>\n",
              "      <td>0</td>\n",
              "      <td>0</td>\n",
              "      <td>5</td>\n",
              "      <td>5</td>\n",
              "      <td>0</td>\n",
              "      <td>0</td>\n",
              "    </tr>\n",
              "    <tr>\n",
              "      <th>8566</th>\n",
              "      <td>92380</td>\n",
              "      <td>2020-09-04</td>\n",
              "      <td>1438</td>\n",
              "      <td>1</td>\n",
              "      <td>weekday</td>\n",
              "      <td>9</td>\n",
              "      <td>14</td>\n",
              "      <td>0</td>\n",
              "      <td>0</td>\n",
              "      <td>2</td>\n",
              "      <td>3</td>\n",
              "      <td>0</td>\n",
              "      <td>0</td>\n",
              "    </tr>\n",
              "    <tr>\n",
              "      <th>8567</th>\n",
              "      <td>92380</td>\n",
              "      <td>2020-09-04</td>\n",
              "      <td>1439</td>\n",
              "      <td>2</td>\n",
              "      <td>weekday</td>\n",
              "      <td>26</td>\n",
              "      <td>24</td>\n",
              "      <td>2</td>\n",
              "      <td>2</td>\n",
              "      <td>5</td>\n",
              "      <td>5</td>\n",
              "      <td>0</td>\n",
              "      <td>0</td>\n",
              "    </tr>\n",
              "    <tr>\n",
              "      <th>8568</th>\n",
              "      <td>92380</td>\n",
              "      <td>2020-09-04</td>\n",
              "      <td>1320</td>\n",
              "      <td>3</td>\n",
              "      <td>weekday</td>\n",
              "      <td>17</td>\n",
              "      <td>17</td>\n",
              "      <td>0</td>\n",
              "      <td>0</td>\n",
              "      <td>2</td>\n",
              "      <td>2</td>\n",
              "      <td>0</td>\n",
              "      <td>0</td>\n",
              "    </tr>\n",
              "    <tr>\n",
              "      <th>8569</th>\n",
              "      <td>92380</td>\n",
              "      <td>2020-09-04</td>\n",
              "      <td>1440</td>\n",
              "      <td>4</td>\n",
              "      <td>weekday</td>\n",
              "      <td>19</td>\n",
              "      <td>24</td>\n",
              "      <td>1</td>\n",
              "      <td>2</td>\n",
              "      <td>3</td>\n",
              "      <td>2</td>\n",
              "      <td>0</td>\n",
              "      <td>0</td>\n",
              "    </tr>\n",
              "    <tr>\n",
              "      <th>...</th>\n",
              "      <td>...</td>\n",
              "      <td>...</td>\n",
              "      <td>...</td>\n",
              "      <td>...</td>\n",
              "      <td>...</td>\n",
              "      <td>...</td>\n",
              "      <td>...</td>\n",
              "      <td>...</td>\n",
              "      <td>...</td>\n",
              "      <td>...</td>\n",
              "      <td>...</td>\n",
              "      <td>...</td>\n",
              "      <td>...</td>\n",
              "    </tr>\n",
              "    <tr>\n",
              "      <th>8714</th>\n",
              "      <td>92380</td>\n",
              "      <td>2020-09-04</td>\n",
              "      <td>1440</td>\n",
              "      <td>2</td>\n",
              "      <td>weekday</td>\n",
              "      <td>15</td>\n",
              "      <td>24</td>\n",
              "      <td>0</td>\n",
              "      <td>0</td>\n",
              "      <td>1</td>\n",
              "      <td>2</td>\n",
              "      <td>0</td>\n",
              "      <td>0</td>\n",
              "    </tr>\n",
              "    <tr>\n",
              "      <th>8715</th>\n",
              "      <td>92380</td>\n",
              "      <td>2020-09-04</td>\n",
              "      <td>1439</td>\n",
              "      <td>3</td>\n",
              "      <td>weekday</td>\n",
              "      <td>29</td>\n",
              "      <td>28</td>\n",
              "      <td>1</td>\n",
              "      <td>1</td>\n",
              "      <td>2</td>\n",
              "      <td>1</td>\n",
              "      <td>0</td>\n",
              "      <td>0</td>\n",
              "    </tr>\n",
              "    <tr>\n",
              "      <th>8716</th>\n",
              "      <td>92380</td>\n",
              "      <td>2020-09-04</td>\n",
              "      <td>1440</td>\n",
              "      <td>4</td>\n",
              "      <td>weekday</td>\n",
              "      <td>28</td>\n",
              "      <td>30</td>\n",
              "      <td>1</td>\n",
              "      <td>1</td>\n",
              "      <td>0</td>\n",
              "      <td>0</td>\n",
              "      <td>0</td>\n",
              "      <td>0</td>\n",
              "    </tr>\n",
              "    <tr>\n",
              "      <th>8719</th>\n",
              "      <td>92380</td>\n",
              "      <td>2020-09-04</td>\n",
              "      <td>1440</td>\n",
              "      <td>0</td>\n",
              "      <td>weekday</td>\n",
              "      <td>15</td>\n",
              "      <td>22</td>\n",
              "      <td>0</td>\n",
              "      <td>1</td>\n",
              "      <td>0</td>\n",
              "      <td>2</td>\n",
              "      <td>0</td>\n",
              "      <td>0</td>\n",
              "    </tr>\n",
              "    <tr>\n",
              "      <th>8720</th>\n",
              "      <td>92380</td>\n",
              "      <td>2020-09-04</td>\n",
              "      <td>1370</td>\n",
              "      <td>1</td>\n",
              "      <td>weekday</td>\n",
              "      <td>1</td>\n",
              "      <td>0</td>\n",
              "      <td>1</td>\n",
              "      <td>1</td>\n",
              "      <td>0</td>\n",
              "      <td>0</td>\n",
              "      <td>0</td>\n",
              "      <td>0</td>\n",
              "    </tr>\n",
              "  </tbody>\n",
              "</table>\n",
              "<p>112 rows × 13 columns</p>\n",
              "</div>"
            ],
            "text/plain": [
              "      POSTAL_CODE       DATE  ...  SLOTS_FREED_SUM  SLOTS_TAKEN_SUM\n",
              "8565        92380 2020-09-04  ...                0                0\n",
              "8566        92380 2020-09-04  ...                0                0\n",
              "8567        92380 2020-09-04  ...                0                0\n",
              "8568        92380 2020-09-04  ...                0                0\n",
              "8569        92380 2020-09-04  ...                0                0\n",
              "...           ...        ...  ...              ...              ...\n",
              "8714        92380 2020-09-04  ...                0                0\n",
              "8715        92380 2020-09-04  ...                0                0\n",
              "8716        92380 2020-09-04  ...                0                0\n",
              "8719        92380 2020-09-04  ...                0                0\n",
              "8720        92380 2020-09-04  ...                0                0\n",
              "\n",
              "[112 rows x 13 columns]"
            ]
          },
          "metadata": {
            "tags": []
          },
          "execution_count": 142
        }
      ]
    },
    {
      "cell_type": "markdown",
      "metadata": {
        "id": "VNhGnDP4ans3",
        "colab_type": "text"
      },
      "source": [
        "The sample size that was used in this analysis was 1500 \n",
        "\n",
        "From the above analysis, the mean of the sampled population is 129.376\n",
        "\n",
        "The standard deviation of the sampled population is 189.63\n",
        "\n",
        "\n",
        "```\n",
        "# This is formatted as code\n",
        "```\n",
        "\n"
      ]
    }
  ]
}